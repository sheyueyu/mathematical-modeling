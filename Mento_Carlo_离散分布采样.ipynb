{
 "cells": [
  {
   "cell_type": "markdown",
   "metadata": {},
   "source": [
    "## 蒙特卡洛 -离散采样分布\n",
    "因为我们后面预测出来的位置概率，选择概率都是离散值。<br>\n",
    "则需要进行离散分布采样。<br>\n",
    "#### 把这个概率分布看成一个区间段，然后判断随机数落在哪个区间段。\n",
    "区间段的长度与概率成正比，则采样的分布符合原来的分布。"
   ]
  },
  {
   "cell_type": "code",
   "execution_count": 151,
   "metadata": {},
   "outputs": [
    {
     "name": "stdout",
     "output_type": "stream",
     "text": [
      "随机值 0.03277158611266939\n",
      "对应的随机变量是：x 0\n"
     ]
    }
   ],
   "source": [
    "p_x = [0.6,0.1,0.2,0.1]\n",
    "#p_x 中对应的随机变量分别是x0,x1,x2,x3\n",
    "def sample_discrete(vec):\n",
    "    u = random.uniform(0,1) #生成随机数\n",
    "    print(\"随机值\",u)\n",
    "    for i in range(len(vec)):\n",
    "        if u <= sum(vec[:i+1]) :\n",
    "            return i\n",
    "        else  :\n",
    "            i = i+1\n",
    "print(\"对应的随机变量是：x\",sample_discrete(p_x))\n"
   ]
  },
  {
   "cell_type": "markdown",
   "metadata": {},
   "source": []
  },
  {
   "cell_type": "code",
   "execution_count": null,
   "metadata": {},
   "outputs": [],
   "source": []
  }
 ],
 "metadata": {
  "kernelspec": {
   "display_name": "Python 3",
   "language": "python",
   "name": "python3"
  },
  "language_info": {
   "codemirror_mode": {
    "name": "ipython",
    "version": 3
   },
   "file_extension": ".py",
   "mimetype": "text/x-python",
   "name": "python",
   "nbconvert_exporter": "python",
   "pygments_lexer": "ipython3",
   "version": "3.7.4"
  }
 },
 "nbformat": 4,
 "nbformat_minor": 2
}
