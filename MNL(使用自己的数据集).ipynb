{
 "cells": [
  {
   "cell_type": "markdown",
   "metadata": {},
   "source": [
    "## 1. 导入包"
   ]
  },
  {
   "cell_type": "code",
   "execution_count": 25,
   "metadata": {},
   "outputs": [],
   "source": [
    "import pandas as pd\n",
    "import numpy as np\n",
    "from numpy import mean\n",
    "from numpy import std\n",
    "from sklearn.datasets import make_classification\n",
    "from sklearn.model_selection import cross_val_score\n",
    "from sklearn.model_selection import RepeatedStratifiedKFold\n",
    "from sklearn.linear_model import LogisticRegression"
   ]
  },
  {
   "cell_type": "markdown",
   "metadata": {},
   "source": [
    "## 2. 导入自己的数据"
   ]
  },
  {
   "cell_type": "code",
   "execution_count": 27,
   "metadata": {},
   "outputs": [
    {
     "data": {
      "text/html": [
       "<div>\n",
       "<style scoped>\n",
       "    .dataframe tbody tr th:only-of-type {\n",
       "        vertical-align: middle;\n",
       "    }\n",
       "\n",
       "    .dataframe tbody tr th {\n",
       "        vertical-align: top;\n",
       "    }\n",
       "\n",
       "    .dataframe thead th {\n",
       "        text-align: right;\n",
       "    }\n",
       "</style>\n",
       "<table border=\"1\" class=\"dataframe\">\n",
       "  <thead>\n",
       "    <tr style=\"text-align: right;\">\n",
       "      <th></th>\n",
       "      <th>choice</th>\n",
       "      <th>cost.car</th>\n",
       "      <th>cost.carpool</th>\n",
       "      <th>cost.bus</th>\n",
       "      <th>cost.rail</th>\n",
       "      <th>time.car</th>\n",
       "      <th>time.carpool</th>\n",
       "      <th>time.bus</th>\n",
       "      <th>time.rail</th>\n",
       "    </tr>\n",
       "  </thead>\n",
       "  <tbody>\n",
       "    <tr>\n",
       "      <th>1</th>\n",
       "      <td>car</td>\n",
       "      <td>1.507010</td>\n",
       "      <td>2.335612</td>\n",
       "      <td>1.800512</td>\n",
       "      <td>2.358920</td>\n",
       "      <td>18.503200</td>\n",
       "      <td>26.338233</td>\n",
       "      <td>20.867794</td>\n",
       "      <td>30.033469</td>\n",
       "    </tr>\n",
       "    <tr>\n",
       "      <th>2</th>\n",
       "      <td>rail</td>\n",
       "      <td>6.056998</td>\n",
       "      <td>2.896919</td>\n",
       "      <td>2.237128</td>\n",
       "      <td>1.855450</td>\n",
       "      <td>31.311107</td>\n",
       "      <td>34.256956</td>\n",
       "      <td>67.181889</td>\n",
       "      <td>60.293126</td>\n",
       "    </tr>\n",
       "    <tr>\n",
       "      <th>3</th>\n",
       "      <td>car</td>\n",
       "      <td>5.794677</td>\n",
       "      <td>2.137454</td>\n",
       "      <td>2.576385</td>\n",
       "      <td>2.747479</td>\n",
       "      <td>22.547429</td>\n",
       "      <td>23.255171</td>\n",
       "      <td>63.309057</td>\n",
       "      <td>49.171643</td>\n",
       "    </tr>\n",
       "    <tr>\n",
       "      <th>4</th>\n",
       "      <td>car</td>\n",
       "      <td>1.869144</td>\n",
       "      <td>2.572427</td>\n",
       "      <td>1.903518</td>\n",
       "      <td>2.268276</td>\n",
       "      <td>26.090282</td>\n",
       "      <td>29.896023</td>\n",
       "      <td>19.752704</td>\n",
       "      <td>13.472675</td>\n",
       "    </tr>\n",
       "    <tr>\n",
       "      <th>5</th>\n",
       "      <td>car</td>\n",
       "      <td>2.498952</td>\n",
       "      <td>1.722010</td>\n",
       "      <td>2.686000</td>\n",
       "      <td>2.973866</td>\n",
       "      <td>4.699140</td>\n",
       "      <td>12.414084</td>\n",
       "      <td>43.092039</td>\n",
       "      <td>39.743252</td>\n",
       "    </tr>\n",
       "    <tr>\n",
       "      <th>...</th>\n",
       "      <td>...</td>\n",
       "      <td>...</td>\n",
       "      <td>...</td>\n",
       "      <td>...</td>\n",
       "      <td>...</td>\n",
       "      <td>...</td>\n",
       "      <td>...</td>\n",
       "      <td>...</td>\n",
       "      <td>...</td>\n",
       "    </tr>\n",
       "    <tr>\n",
       "      <th>449</th>\n",
       "      <td>rail</td>\n",
       "      <td>6.990901</td>\n",
       "      <td>0.515137</td>\n",
       "      <td>2.066044</td>\n",
       "      <td>2.171174</td>\n",
       "      <td>48.022792</td>\n",
       "      <td>44.501577</td>\n",
       "      <td>27.271918</td>\n",
       "      <td>18.966319</td>\n",
       "    </tr>\n",
       "    <tr>\n",
       "      <th>450</th>\n",
       "      <td>car</td>\n",
       "      <td>4.591647</td>\n",
       "      <td>2.891148</td>\n",
       "      <td>1.900379</td>\n",
       "      <td>1.794407</td>\n",
       "      <td>29.444192</td>\n",
       "      <td>33.727087</td>\n",
       "      <td>66.117345</td>\n",
       "      <td>39.842459</td>\n",
       "    </tr>\n",
       "    <tr>\n",
       "      <th>451</th>\n",
       "      <td>car</td>\n",
       "      <td>3.236237</td>\n",
       "      <td>1.206815</td>\n",
       "      <td>1.754674</td>\n",
       "      <td>2.023671</td>\n",
       "      <td>16.349017</td>\n",
       "      <td>18.975074</td>\n",
       "      <td>23.387729</td>\n",
       "      <td>43.298276</td>\n",
       "    </tr>\n",
       "    <tr>\n",
       "      <th>452</th>\n",
       "      <td>bus</td>\n",
       "      <td>6.932740</td>\n",
       "      <td>1.171861</td>\n",
       "      <td>2.461495</td>\n",
       "      <td>2.612489</td>\n",
       "      <td>65.420641</td>\n",
       "      <td>60.481668</td>\n",
       "      <td>52.404315</td>\n",
       "      <td>48.370662</td>\n",
       "    </tr>\n",
       "    <tr>\n",
       "      <th>453</th>\n",
       "      <td>carpool</td>\n",
       "      <td>6.531509</td>\n",
       "      <td>1.408171</td>\n",
       "      <td>2.214791</td>\n",
       "      <td>1.856338</td>\n",
       "      <td>59.566073</td>\n",
       "      <td>55.141406</td>\n",
       "      <td>67.815635</td>\n",
       "      <td>73.447286</td>\n",
       "    </tr>\n",
       "  </tbody>\n",
       "</table>\n",
       "<p>453 rows × 9 columns</p>\n",
       "</div>"
      ],
      "text/plain": [
       "      choice  cost.car  cost.carpool  cost.bus  cost.rail   time.car  \\\n",
       "1        car  1.507010      2.335612  1.800512   2.358920  18.503200   \n",
       "2       rail  6.056998      2.896919  2.237128   1.855450  31.311107   \n",
       "3        car  5.794677      2.137454  2.576385   2.747479  22.547429   \n",
       "4        car  1.869144      2.572427  1.903518   2.268276  26.090282   \n",
       "5        car  2.498952      1.722010  2.686000   2.973866   4.699140   \n",
       "..       ...       ...           ...       ...        ...        ...   \n",
       "449     rail  6.990901      0.515137  2.066044   2.171174  48.022792   \n",
       "450      car  4.591647      2.891148  1.900379   1.794407  29.444192   \n",
       "451      car  3.236237      1.206815  1.754674   2.023671  16.349017   \n",
       "452      bus  6.932740      1.171861  2.461495   2.612489  65.420641   \n",
       "453  carpool  6.531509      1.408171  2.214791   1.856338  59.566073   \n",
       "\n",
       "     time.carpool   time.bus  time.rail  \n",
       "1       26.338233  20.867794  30.033469  \n",
       "2       34.256956  67.181889  60.293126  \n",
       "3       23.255171  63.309057  49.171643  \n",
       "4       29.896023  19.752704  13.472675  \n",
       "5       12.414084  43.092039  39.743252  \n",
       "..            ...        ...        ...  \n",
       "449     44.501577  27.271918  18.966319  \n",
       "450     33.727087  66.117345  39.842459  \n",
       "451     18.975074  23.387729  43.298276  \n",
       "452     60.481668  52.404315  48.370662  \n",
       "453     55.141406  67.815635  73.447286  \n",
       "\n",
       "[453 rows x 9 columns]"
      ]
     },
     "execution_count": 27,
     "metadata": {},
     "output_type": "execute_result"
    }
   ],
   "source": [
    "data_wide = pd.read_csv(\"./data/mode_wide.csv\", index_col=0) #index_col=0 第一行为列名\n",
    "data_wide"
   ]
  },
  {
   "cell_type": "markdown",
   "metadata": {},
   "source": [
    "## 2. 处理数据\n",
    "y= 1(选car)；<br>\n",
    "y = 2 (carpool);<br>\n",
    "y = 3 (rail);<br>\n",
    "y = 4 (bus);<br>"
   ]
  },
  {
   "cell_type": "code",
   "execution_count": 28,
   "metadata": {},
   "outputs": [
    {
     "data": {
      "text/html": [
       "<div>\n",
       "<style scoped>\n",
       "    .dataframe tbody tr th:only-of-type {\n",
       "        vertical-align: middle;\n",
       "    }\n",
       "\n",
       "    .dataframe tbody tr th {\n",
       "        vertical-align: top;\n",
       "    }\n",
       "\n",
       "    .dataframe thead th {\n",
       "        text-align: right;\n",
       "    }\n",
       "</style>\n",
       "<table border=\"1\" class=\"dataframe\">\n",
       "  <thead>\n",
       "    <tr style=\"text-align: right;\">\n",
       "      <th></th>\n",
       "      <th>choice</th>\n",
       "      <th>cost.car</th>\n",
       "      <th>cost.carpool</th>\n",
       "      <th>cost.bus</th>\n",
       "      <th>cost.rail</th>\n",
       "      <th>time.car</th>\n",
       "      <th>time.carpool</th>\n",
       "      <th>time.bus</th>\n",
       "      <th>time.rail</th>\n",
       "      <th>y</th>\n",
       "    </tr>\n",
       "  </thead>\n",
       "  <tbody>\n",
       "    <tr>\n",
       "      <th>1</th>\n",
       "      <td>car</td>\n",
       "      <td>1.507010</td>\n",
       "      <td>2.335612</td>\n",
       "      <td>1.800512</td>\n",
       "      <td>2.358920</td>\n",
       "      <td>18.503200</td>\n",
       "      <td>26.338233</td>\n",
       "      <td>20.867794</td>\n",
       "      <td>30.033469</td>\n",
       "      <td>1</td>\n",
       "    </tr>\n",
       "    <tr>\n",
       "      <th>2</th>\n",
       "      <td>rail</td>\n",
       "      <td>6.056998</td>\n",
       "      <td>2.896919</td>\n",
       "      <td>2.237128</td>\n",
       "      <td>1.855450</td>\n",
       "      <td>31.311107</td>\n",
       "      <td>34.256956</td>\n",
       "      <td>67.181889</td>\n",
       "      <td>60.293126</td>\n",
       "      <td>3</td>\n",
       "    </tr>\n",
       "    <tr>\n",
       "      <th>3</th>\n",
       "      <td>car</td>\n",
       "      <td>5.794677</td>\n",
       "      <td>2.137454</td>\n",
       "      <td>2.576385</td>\n",
       "      <td>2.747479</td>\n",
       "      <td>22.547429</td>\n",
       "      <td>23.255171</td>\n",
       "      <td>63.309057</td>\n",
       "      <td>49.171643</td>\n",
       "      <td>1</td>\n",
       "    </tr>\n",
       "    <tr>\n",
       "      <th>4</th>\n",
       "      <td>car</td>\n",
       "      <td>1.869144</td>\n",
       "      <td>2.572427</td>\n",
       "      <td>1.903518</td>\n",
       "      <td>2.268276</td>\n",
       "      <td>26.090282</td>\n",
       "      <td>29.896023</td>\n",
       "      <td>19.752704</td>\n",
       "      <td>13.472675</td>\n",
       "      <td>1</td>\n",
       "    </tr>\n",
       "    <tr>\n",
       "      <th>5</th>\n",
       "      <td>car</td>\n",
       "      <td>2.498952</td>\n",
       "      <td>1.722010</td>\n",
       "      <td>2.686000</td>\n",
       "      <td>2.973866</td>\n",
       "      <td>4.699140</td>\n",
       "      <td>12.414084</td>\n",
       "      <td>43.092039</td>\n",
       "      <td>39.743252</td>\n",
       "      <td>1</td>\n",
       "    </tr>\n",
       "    <tr>\n",
       "      <th>...</th>\n",
       "      <td>...</td>\n",
       "      <td>...</td>\n",
       "      <td>...</td>\n",
       "      <td>...</td>\n",
       "      <td>...</td>\n",
       "      <td>...</td>\n",
       "      <td>...</td>\n",
       "      <td>...</td>\n",
       "      <td>...</td>\n",
       "      <td>...</td>\n",
       "    </tr>\n",
       "    <tr>\n",
       "      <th>449</th>\n",
       "      <td>rail</td>\n",
       "      <td>6.990901</td>\n",
       "      <td>0.515137</td>\n",
       "      <td>2.066044</td>\n",
       "      <td>2.171174</td>\n",
       "      <td>48.022792</td>\n",
       "      <td>44.501577</td>\n",
       "      <td>27.271918</td>\n",
       "      <td>18.966319</td>\n",
       "      <td>3</td>\n",
       "    </tr>\n",
       "    <tr>\n",
       "      <th>450</th>\n",
       "      <td>car</td>\n",
       "      <td>4.591647</td>\n",
       "      <td>2.891148</td>\n",
       "      <td>1.900379</td>\n",
       "      <td>1.794407</td>\n",
       "      <td>29.444192</td>\n",
       "      <td>33.727087</td>\n",
       "      <td>66.117345</td>\n",
       "      <td>39.842459</td>\n",
       "      <td>1</td>\n",
       "    </tr>\n",
       "    <tr>\n",
       "      <th>451</th>\n",
       "      <td>car</td>\n",
       "      <td>3.236237</td>\n",
       "      <td>1.206815</td>\n",
       "      <td>1.754674</td>\n",
       "      <td>2.023671</td>\n",
       "      <td>16.349017</td>\n",
       "      <td>18.975074</td>\n",
       "      <td>23.387729</td>\n",
       "      <td>43.298276</td>\n",
       "      <td>1</td>\n",
       "    </tr>\n",
       "    <tr>\n",
       "      <th>452</th>\n",
       "      <td>bus</td>\n",
       "      <td>6.932740</td>\n",
       "      <td>1.171861</td>\n",
       "      <td>2.461495</td>\n",
       "      <td>2.612489</td>\n",
       "      <td>65.420641</td>\n",
       "      <td>60.481668</td>\n",
       "      <td>52.404315</td>\n",
       "      <td>48.370662</td>\n",
       "      <td>4</td>\n",
       "    </tr>\n",
       "    <tr>\n",
       "      <th>453</th>\n",
       "      <td>carpool</td>\n",
       "      <td>6.531509</td>\n",
       "      <td>1.408171</td>\n",
       "      <td>2.214791</td>\n",
       "      <td>1.856338</td>\n",
       "      <td>59.566073</td>\n",
       "      <td>55.141406</td>\n",
       "      <td>67.815635</td>\n",
       "      <td>73.447286</td>\n",
       "      <td>2</td>\n",
       "    </tr>\n",
       "  </tbody>\n",
       "</table>\n",
       "<p>453 rows × 10 columns</p>\n",
       "</div>"
      ],
      "text/plain": [
       "      choice  cost.car  cost.carpool  cost.bus  cost.rail   time.car  \\\n",
       "1        car  1.507010      2.335612  1.800512   2.358920  18.503200   \n",
       "2       rail  6.056998      2.896919  2.237128   1.855450  31.311107   \n",
       "3        car  5.794677      2.137454  2.576385   2.747479  22.547429   \n",
       "4        car  1.869144      2.572427  1.903518   2.268276  26.090282   \n",
       "5        car  2.498952      1.722010  2.686000   2.973866   4.699140   \n",
       "..       ...       ...           ...       ...        ...        ...   \n",
       "449     rail  6.990901      0.515137  2.066044   2.171174  48.022792   \n",
       "450      car  4.591647      2.891148  1.900379   1.794407  29.444192   \n",
       "451      car  3.236237      1.206815  1.754674   2.023671  16.349017   \n",
       "452      bus  6.932740      1.171861  2.461495   2.612489  65.420641   \n",
       "453  carpool  6.531509      1.408171  2.214791   1.856338  59.566073   \n",
       "\n",
       "     time.carpool   time.bus  time.rail  y  \n",
       "1       26.338233  20.867794  30.033469  1  \n",
       "2       34.256956  67.181889  60.293126  3  \n",
       "3       23.255171  63.309057  49.171643  1  \n",
       "4       29.896023  19.752704  13.472675  1  \n",
       "5       12.414084  43.092039  39.743252  1  \n",
       "..            ...        ...        ... ..  \n",
       "449     44.501577  27.271918  18.966319  3  \n",
       "450     33.727087  66.117345  39.842459  1  \n",
       "451     18.975074  23.387729  43.298276  1  \n",
       "452     60.481668  52.404315  48.370662  4  \n",
       "453     55.141406  67.815635  73.447286  2  \n",
       "\n",
       "[453 rows x 10 columns]"
      ]
     },
     "execution_count": 28,
     "metadata": {},
     "output_type": "execute_result"
    }
   ],
   "source": [
    "def choice_to_y(choice):\n",
    "    if choice == 'car':\n",
    "        return 1\n",
    "    elif choice == 'carpool':\n",
    "        return 2\n",
    "    elif choice == 'rail':\n",
    "        return 3\n",
    "    else:\n",
    "        return 4\n",
    "\n",
    "data_wide['y'] = data_wide['choice'].map(choice_to_y)\n",
    "data_wide"
   ]
  },
  {
   "cell_type": "markdown",
   "metadata": {},
   "source": [
    "## 3. 确定自变量X和因变量y"
   ]
  },
  {
   "cell_type": "code",
   "execution_count": 29,
   "metadata": {},
   "outputs": [
    {
     "data": {
      "text/plain": [
       "Index(['choice', 'cost.car', 'cost.carpool', 'cost.bus', 'cost.rail',\n",
       "       'time.car', 'time.carpool', 'time.bus', 'time.rail', 'y'],\n",
       "      dtype='object')"
      ]
     },
     "execution_count": 29,
     "metadata": {},
     "output_type": "execute_result"
    }
   ],
   "source": [
    "data_wide.columns"
   ]
  },
  {
   "cell_type": "code",
   "execution_count": 30,
   "metadata": {},
   "outputs": [],
   "source": [
    "X = data_wide[['cost.car', 'cost.carpool', 'cost.bus', 'cost.rail','time.car', 'time.carpool', 'time.bus', 'time.rail']]\n",
    "y = data_wide['y']"
   ]
  },
  {
   "cell_type": "markdown",
   "metadata": {},
   "source": [
    "## 4. 配置Logit模型并评估"
   ]
  },
  {
   "cell_type": "code",
   "execution_count": 31,
   "metadata": {},
   "outputs": [
    {
     "name": "stdout",
     "output_type": "stream",
     "text": [
      "Mean Accuracy: 0.665 (0.061)\n"
     ]
    }
   ],
   "source": [
    "model = LogisticRegression(multi_class='multinomial', solver='lbfgs')\n",
    "\n",
    "# define the model evaluation procedure （定义模型评估程序） n_splits 就是K-flods中的K值；n_repeats是交叉验证的次数\n",
    "cv = RepeatedStratifiedKFold(n_splits=10, n_repeats=3, random_state=1)\n",
    "# evaluate the model and collect the scores （评估模型并收集分数）\n",
    "n_scores = cross_val_score(model, X, y, scoring='accuracy', cv=cv, n_jobs=-1)\n",
    "# report the model performance \n",
    "print('Mean Accuracy: %.3f (%.3f)' % (mean(n_scores), std(n_scores)))  "
   ]
  },
  {
   "cell_type": "markdown",
   "metadata": {},
   "source": [
    "## 5. 拟合"
   ]
  },
  {
   "cell_type": "code",
   "execution_count": 32,
   "metadata": {},
   "outputs": [
    {
     "name": "stderr",
     "output_type": "stream",
     "text": [
      "D:\\ANACONDA\\lib\\site-packages\\sklearn\\linear_model\\_logistic.py:818: ConvergenceWarning: lbfgs failed to converge (status=1):\n",
      "STOP: TOTAL NO. of ITERATIONS REACHED LIMIT.\n",
      "\n",
      "Increase the number of iterations (max_iter) or scale the data as shown in:\n",
      "    https://scikit-learn.org/stable/modules/preprocessing.html\n",
      "Please also refer to the documentation for alternative solver options:\n",
      "    https://scikit-learn.org/stable/modules/linear_model.html#logistic-regression\n",
      "  extra_warning_msg=_LOGISTIC_SOLVER_CONVERGENCE_MSG,\n"
     ]
    },
    {
     "data": {
      "text/plain": [
       "LogisticRegression(multi_class='multinomial')"
      ]
     },
     "execution_count": 32,
     "metadata": {},
     "output_type": "execute_result"
    }
   ],
   "source": [
    "model.fit(X, y)"
   ]
  },
  {
   "cell_type": "markdown",
   "metadata": {},
   "source": [
    "## 6. 设置一个新的数据，预测结果"
   ]
  },
  {
   "cell_type": "code",
   "execution_count": 33,
   "metadata": {},
   "outputs": [
    {
     "data": {
      "text/plain": [
       "array([0.11880174, 0.16505872, 0.14297278, 0.50355392, 0.87629855,\n",
       "       0.91189688, 0.57073101, 0.19178997])"
      ]
     },
     "execution_count": 33,
     "metadata": {},
     "output_type": "execute_result"
    }
   ],
   "source": [
    "#生成一组新数据\n",
    "new_data = np.random.rand(8)\n",
    "new_data"
   ]
  },
  {
   "cell_type": "code",
   "execution_count": 34,
   "metadata": {},
   "outputs": [
    {
     "name": "stdout",
     "output_type": "stream",
     "text": [
      "Predicted Probabilities: [0.3749058  0.20228137 0.20380141 0.21901142]\n"
     ]
    },
    {
     "name": "stderr",
     "output_type": "stream",
     "text": [
      "D:\\ANACONDA\\lib\\site-packages\\sklearn\\base.py:451: UserWarning: X does not have valid feature names, but LogisticRegression was fitted with feature names\n",
      "  \"X does not have valid feature names, but\"\n"
     ]
    }
   ],
   "source": [
    "#预测\n",
    "#预测新数据的分布概率\n",
    "yhat = model.predict_proba([new_data])\n",
    "\n",
    "#输出预测结果\n",
    "print('Predicted Probabilities: %s' % yhat[0])"
   ]
  },
  {
   "cell_type": "markdown",
   "metadata": {},
   "source": [
    "#### 已经可以了解如何使用自己的数据进行多元logit回归的一个思路；\n",
    "上面的警告是出现了无效的特征名（列名不是正确的格式）"
   ]
  }
 ],
 "metadata": {
  "kernelspec": {
   "display_name": "Python 3",
   "language": "python",
   "name": "python3"
  },
  "language_info": {
   "codemirror_mode": {
    "name": "ipython",
    "version": 3
   },
   "file_extension": ".py",
   "mimetype": "text/x-python",
   "name": "python",
   "nbconvert_exporter": "python",
   "pygments_lexer": "ipython3",
   "version": "3.7.4"
  }
 },
 "nbformat": 4,
 "nbformat_minor": 2
}
