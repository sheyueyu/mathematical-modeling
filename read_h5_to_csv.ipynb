{
 "cells": [
  {
   "cell_type": "code",
   "execution_count": 1,
   "metadata": {},
   "outputs": [],
   "source": [
    "import warnings\n",
    "\n",
    "import orca\n",
    "import pandas as pd\n",
    "\n"
   ]
  },
  {
   "cell_type": "code",
   "execution_count": 4,
   "metadata": {},
   "outputs": [
    {
     "name": "stdout",
     "output_type": "stream",
     "text": [
      "             parcel_id  residential_units  non_residential_sqft  \\\n",
      "building_id                                                       \n",
      "66515            69377                3.0                   0.0   \n",
      "123898          131763                2.0                   0.0   \n",
      "44682            46013                1.0                   0.0   \n",
      "62974            65342                3.0                   0.0   \n",
      "55586            57438                1.0                   0.0   \n",
      "...                ...                ...                   ...   \n",
      "8459              8835                3.0                   0.0   \n",
      "16004            16543                1.0                   0.0   \n",
      "127877          135882                2.0                   0.0   \n",
      "27948            28798                1.0                   0.0   \n",
      "91541            97907                1.0                   0.0   \n",
      "\n",
      "             building_sqft  stories  building_type_id  year_built  \\\n",
      "building_id                                                         \n",
      "66515               4755.0      3.0               3.0      1900.0   \n",
      "123898              3770.0      2.0               3.0      1923.0   \n",
      "44682               2275.0      1.0               2.0      1931.0   \n",
      "62974               4032.0      3.0               3.0      1910.0   \n",
      "55586               1225.0      1.0               2.0      1927.0   \n",
      "...                    ...      ...               ...         ...   \n",
      "8459                3990.0      2.0               3.0      1968.0   \n",
      "16004               1351.0      1.0               2.0      1954.0   \n",
      "127877              3220.0      2.0               3.0      1923.0   \n",
      "27948               1325.0      1.0               2.0      1927.0   \n",
      "91541               1475.0      2.0               2.0      1905.0   \n",
      "\n",
      "             residential_sales_price  non_residential_rent  \n",
      "building_id                                                 \n",
      "66515                     568.475987                   NaN  \n",
      "123898                    334.338944                   NaN  \n",
      "44682                     425.759660                   NaN  \n",
      "62974                     595.244178                   NaN  \n",
      "55586                     550.923428                   NaN  \n",
      "...                              ...                   ...  \n",
      "8459                      498.417839                   NaN  \n",
      "16004                     538.600222                   NaN  \n",
      "127877                    356.454451                   NaN  \n",
      "27948                     531.980111                   NaN  \n",
      "91541                     530.731673                   NaN  \n",
      "\n",
      "[152605 rows x 9 columns]\n",
      "152605\n",
      "147934    3\n",
      "68444     2\n",
      "86761     2\n",
      "130581    2\n",
      "139942    2\n",
      "         ..\n",
      "125206    1\n",
      "123159    1\n",
      "104728    1\n",
      "102681    1\n",
      "2047      1\n",
      "Name: parcel_id, Length: 149792, dtype: int64\n"
     ]
    }
   ],
   "source": [
    "import pandas as pd\n",
    "buildings =pd.read_hdf('.\\data\\sanfran_public.h5','buildings')   #读取h5文件中的buildings表格\n",
    "print(buildings)  \n",
    "buildings.to_csv('buildings.csv',encoding='gb18030')\n",
    "print(len(buildings))\n",
    "print(buildings['parcel_id'].value_counts())"
   ]
  },
  {
   "cell_type": "code",
   "execution_count": 3,
   "metadata": {},
   "outputs": [
    {
     "name": "stdout",
     "output_type": "stream",
     "text": [
      "              building_id  building_type_id  income  persons  tenure\n",
      "household_id                                                        \n",
      "1                  136325                 1   27310        1       2\n",
      "4                  133982                 2   25000        1       2\n",
      "5                   25633                 1    3100        1       1\n",
      "6                  132596                 2    7200        1       1\n",
      "7                   57108                 1   27310        1       2\n",
      "...                   ...               ...     ...      ...     ...\n",
      "2630612             74346                 3     690        1       1\n",
      "2630613             78154                 3   24650        1       1\n",
      "2630614            130536                 3   58000        1       1\n",
      "2630615            137578                 3   15400        1       1\n",
      "2630617            129988                 2   22000        1       1\n",
      "\n",
      "[345588 rows x 5 columns]\n"
     ]
    }
   ],
   "source": [
    "households =pd.read_hdf('.\\data\\sanfran_public.h5','households')   #读取h5文件中的buildings表格\n",
    "print(households)  \n",
    "households.to_csv('households.csv',encoding='gb18030')\n"
   ]
  },
  {
   "cell_type": "code",
   "execution_count": 4,
   "metadata": {},
   "outputs": [
    {
     "name": "stdout",
     "output_type": "stream",
     "text": [
      "         building_id job_category\n",
      "3389004      1845867      service\n",
      "3813527      1854491      service\n",
      "3530098      1849820      service\n",
      "3417867      1854265      service\n",
      "3585435      1854265      service\n",
      "...              ...          ...\n",
      "3951153       128143      service\n",
      "3670062       128149      service\n",
      "3484003        75368      service\n",
      "3831323       134808      service\n",
      "3498335      1854491      service\n",
      "\n",
      "[225439 rows x 2 columns]\n"
     ]
    }
   ],
   "source": [
    "jobs=pd.read_hdf('.\\data\\sanfran_public.h5','jobs')   #读取h5文件中的buildings表格\n",
    "print(jobs)  \n",
    "jobs.to_csv('jobs.csv',encoding='gb18030')"
   ]
  },
  {
   "cell_type": "code",
   "execution_count": 5,
   "metadata": {},
   "outputs": [
    {
     "name": "stdout",
     "output_type": "stream",
     "text": [
      "            shape_area  county_id  zone_id            x           y  \\\n",
      "parcel_id                                                             \n",
      "1           281.611633       38.0     91.0  548474.1250  4179481.50   \n",
      "2           247.652740       38.0     91.0  548618.2500  4179506.25   \n",
      "3           291.017151       38.0     91.0  548722.3750  4179475.75   \n",
      "4           233.682632       38.0     91.0  548675.5000  4179456.75   \n",
      "5           233.684555       38.0     91.0  548670.3750  4179487.00   \n",
      "...                ...        ...      ...          ...         ...   \n",
      "154502      418.868713       38.0    149.0  552457.8750  4173622.00   \n",
      "154518      193.428223       38.0    154.0  552262.9375  4173615.00   \n",
      "154533     1624.578125       38.0    149.0  552646.6250  4173621.00   \n",
      "154614      666.512512       38.0    149.0  552895.0625  4173627.00   \n",
      "154629      193.427216       38.0    154.0  552260.4375  4173607.75   \n",
      "\n",
      "           _node_id0  _node_id  \n",
      "parcel_id                       \n",
      "1             119221    128904  \n",
      "2             115538    125155  \n",
      "3             116905    126552  \n",
      "4             115539    125156  \n",
      "5             115538    125155  \n",
      "...              ...       ...  \n",
      "154502        114696    124306  \n",
      "154518        116289    125923  \n",
      "154533        114695    124305  \n",
      "154614        117429    127082  \n",
      "154629        116289    125923  \n",
      "\n",
      "[153341 rows x 7 columns]\n"
     ]
    }
   ],
   "source": [
    "parcels=pd.read_hdf('.\\data\\sanfran_public.h5','parcels')   \n",
    "print(parcels)  \n",
    "parcels.to_csv('parcels.csv',encoding='gb18030')"
   ]
  },
  {
   "cell_type": "code",
   "execution_count": 6,
   "metadata": {},
   "outputs": [
    {
     "name": "stdout",
     "output_type": "stream",
     "text": [
      "          gid     tract          area         acres\n",
      "zone_id                                            \n",
      "1442      525  126100.0  5.272042e+06    121.028999\n",
      "1434      508  114100.0  7.820342e+06    179.529999\n",
      "246       784  605000.0  4.247868e+06     97.517998\n",
      "1312      560  201800.0  7.597325e+08  17441.058594\n",
      "705      1205  512507.0  2.783539e+07    639.013000\n",
      "...       ...       ...           ...           ...\n",
      "769      1446       NaN  2.359150e+07    541.585999\n",
      "874      1447       NaN  9.820885e+06    225.455994\n",
      "1146     1452       NaN  1.179568e+06     27.079000\n",
      "1201     1453       NaN  2.534543e+06     58.185001\n",
      "1202     1454       NaN  7.839106e+05     17.996000\n",
      "\n",
      "[1454 rows x 4 columns]\n"
     ]
    }
   ],
   "source": [
    "zones=pd.read_hdf('.\\data\\sanfran_public.h5','zones')   \n",
    "print(zones)  \n",
    "zones.to_csv('zones.csv',encoding='gb18030')"
   ]
  },
  {
   "cell_type": "code",
   "execution_count": 7,
   "metadata": {},
   "outputs": [
    {
     "name": "stdout",
     "output_type": "stream",
     "text": [
      "                                                     name  max_height  city  \\\n",
      "id                                                                            \n",
      "20223      SEE MISSION BAY SOUTH REDEVELOPMENT PLAN-MB-RA         0.0   101   \n",
      "2       MODERATE SCALE NEIGHBORHOOD COMMERCIAL TRANSIT...         0.0   101   \n",
      "3       MODERATE SCALE NEIGHBORHOOD COMMERCIAL TRANSIT...        85.0   101   \n",
      "4       MODERATE SCALE NEIGHBORHOOD COMMERCIAL TRANSIT...        68.0   101   \n",
      "1                                                 PUBLIC-         0.0   101   \n",
      "...                                                   ...         ...   ...   \n",
      "182417                              LIGHT INDUSTRIAL-40-X        40.0   101   \n",
      "182418  RESIDENTIAL- COMMERCIAL, MEDIUM DENSITY-65/240-EP       240.0   101   \n",
      "182419                              HEAVY INDUSTRIAL-40-X        40.0   101   \n",
      "183817               CHINATOWN-COMMUNITY BUSINESS-65-85-N        65.0   101   \n",
      "183818                              HEAVY COMMERCIAL-85-X        85.0   101   \n",
      "\n",
      "        max_far  coverage type1 type2 type3 type4 type5 type6 type7 type8  \\\n",
      "id                                                                          \n",
      "20223       NaN       NaN     f     f     f     f     f     f     f     f   \n",
      "2           0.0       NaN     f     f     f     f     f     f     f     f   \n",
      "3           3.6       NaN     f     f     f     f     f     f     f     f   \n",
      "4           3.6       NaN     f     f     f     f     f     f     f     f   \n",
      "1           0.0       NaN     f     f     f     f     f     f     f     f   \n",
      "...         ...       ...   ...   ...   ...   ...   ...   ...   ...   ...   \n",
      "182417      5.0       NaN     f     t     t     t     f     t     t     t   \n",
      "182418      3.6       NaN     f     t     t     f     t     t     f     f   \n",
      "182419      5.0       NaN     f     t     t     t     f     f     t     t   \n",
      "183817      2.8       NaN     f     f     f     f     f     f     f     f   \n",
      "183818      9.0       NaN     f     f     f     f     f     f     f     f   \n",
      "\n",
      "       type9 type10 type11 type12 type13 type14  \n",
      "id                                               \n",
      "20223      f      f      f      f      f      f  \n",
      "2          f      f      f      f      f      f  \n",
      "3          f      f      f      f      f      f  \n",
      "4          f      f      f      f      f      f  \n",
      "1          f      f      f      f      f      f  \n",
      "...      ...    ...    ...    ...    ...    ...  \n",
      "182417     f      f      f      t      f      f  \n",
      "182418     f      f      f      t      t      f  \n",
      "182419     t      f      f      t      f      f  \n",
      "183817     f      f      f      f      f      f  \n",
      "183818     f      f      f      f      f      f  \n",
      "\n",
      "[6962 rows x 19 columns]\n"
     ]
    }
   ],
   "source": [
    "zoning=pd.read_hdf('.\\data\\sanfran_public.h5','zoning')   \n",
    "print(zoning)  \n",
    "zoning.to_csv('zoning.csv',encoding='gb18030')"
   ]
  },
  {
   "cell_type": "code",
   "execution_count": 8,
   "metadata": {},
   "outputs": [
    {
     "name": "stdout",
     "output_type": "stream",
     "text": [
      "        zoning\n",
      "parcel        \n",
      "4324     20495\n",
      "824      20505\n",
      "233      20521\n",
      "4226     20521\n",
      "4356     20521\n",
      "...        ...\n",
      "51745    20341\n",
      "51106    20502\n",
      "48605    20499\n",
      "51114    20495\n",
      "51121    20495\n",
      "\n",
      "[148318 rows x 1 columns]\n"
     ]
    }
   ],
   "source": [
    "zoning_for_parcels=pd.read_hdf('.\\data\\sanfran_public.h5','zoning_for_parcels')   \n",
    "print(zoning_for_parcels)  \n",
    "zoning_for_parcels.to_csv('zoning_for_parcels.csv',encoding='gb18030')"
   ]
  },
  {
   "cell_type": "markdown",
   "metadata": {},
   "source": [
    "groupby到底怎么用\n"
   ]
  },
  {
   "cell_type": "code",
   "execution_count": 30,
   "metadata": {},
   "outputs": [
    {
     "name": "stdout",
     "output_type": "stream",
     "text": [
      "   key  value\n",
      "0    a      0\n",
      "1    b      1\n",
      "2    c      2\n",
      "3    a      3\n",
      "4    b      4\n",
      "5    c      5\n",
      "6    a      6\n",
      "7    b      7\n",
      "8    c      8\n",
      "9    a      9\n",
      "10   b     10\n",
      "11   c     11\n"
     ]
    }
   ],
   "source": [
    "import numpy as np\n",
    "df  = pd.DataFrame({\n",
    "    'key' : ['a','b','c']*4,\n",
    "    'value' : np.arange(12,)})\n",
    "print(df)"
   ]
  },
  {
   "cell_type": "code",
   "execution_count": 35,
   "metadata": {},
   "outputs": [
    {
     "name": "stdout",
     "output_type": "stream",
     "text": [
      "key\n",
      "a    4.5\n",
      "b    5.5\n",
      "c    6.5\n",
      "Name: value, dtype: float64\n"
     ]
    }
   ],
   "source": [
    "#按key分组的均值是多少\n",
    "g  = df.groupby('key').value\n",
    "print(g.mean())  #mean()用于计算均值"
   ]
  },
  {
   "cell_type": "code",
   "execution_count": 47,
   "metadata": {},
   "outputs": [
    {
     "name": "stdout",
     "output_type": "stream",
     "text": [
      "building_type_id\n",
      "1.0      14498.300781\n",
      "2.0       1728.302490\n",
      "3.0       5433.549805\n",
      "4.0      47353.617188\n",
      "5.0      50594.062500\n",
      "6.0      57326.500000\n",
      "7.0      15425.266602\n",
      "8.0      22605.402344\n",
      "9.0     100297.632812\n",
      "10.0      9282.353516\n",
      "11.0    121794.664062\n",
      "12.0      6902.572754\n",
      "13.0     10441.642578\n",
      "14.0     20123.802734\n",
      "Name: building_sqft, dtype: float32\n"
     ]
    }
   ],
   "source": [
    "\n",
    "g = buildings.groupby('building_type_id').building_sqft\n",
    "print(g.mean())"
   ]
  },
  {
   "cell_type": "code",
   "execution_count": 69,
   "metadata": {},
   "outputs": [
    {
     "name": "stdout",
     "output_type": "stream",
     "text": [
      "parcel_id\n",
      "1          91.0\n",
      "2          91.0\n",
      "3          91.0\n",
      "4          91.0\n",
      "5          91.0\n",
      "          ...  \n",
      "154502    149.0\n",
      "154518    154.0\n",
      "154533    149.0\n",
      "154614    149.0\n",
      "154629    154.0\n",
      "Name: zone_id, Length: 153341, dtype: float32\n",
      "building_id\n",
      "66515     103.0\n",
      "123898     60.0\n",
      "44682     134.0\n",
      "62974      82.0\n",
      "55586     168.0\n",
      "          ...  \n",
      "8459      174.0\n",
      "16004     174.0\n",
      "127877     63.0\n",
      "27948     186.0\n",
      "91541     136.0\n",
      "Name: right, Length: 152605, dtype: float32\n"
     ]
    },
    {
     "data": {
      "text/plain": [
       "'\\n下面这个表中的第二列，就是zone_id，是和building_id 一一对应的，然后再加入到buildings表中\\n'"
      ]
     },
     "execution_count": 69,
     "metadata": {},
     "output_type": "execute_result"
    }
   ],
   "source": [
    "from urbansim.utils import misc\n",
    "print(parcels.zone_id)\n",
    "@orca.column('buildings', 'zone_id', cache=True)\n",
    "def zone_id(buildings, parcels):\n",
    "    return misc.reindex(parcels.zone_id, buildings.parcel_id)  #将parcel表的zone_id,通过外键parcel_id,使用reindex，将zones_id添加到buildings表中\n",
    "print(zone_id(buildings,parcels))\n",
    "\n",
    "\"\"\"\n",
    "下面这个表中的第二列，就是zone_id，是和building_id 一一对应的，然后再加入到buildings表中\n",
    "\"\"\""
   ]
  },
  {
   "cell_type": "code",
   "execution_count": null,
   "metadata": {},
   "outputs": [],
   "source": []
  }
 ],
 "metadata": {
  "kernelspec": {
   "display_name": "Python 3",
   "language": "python",
   "name": "python3"
  },
  "language_info": {
   "codemirror_mode": {
    "name": "ipython",
    "version": 3
   },
   "file_extension": ".py",
   "mimetype": "text/x-python",
   "name": "python",
   "nbconvert_exporter": "python",
   "pygments_lexer": "ipython3",
   "version": "3.7.4"
  }
 },
 "nbformat": 4,
 "nbformat_minor": 2
}
