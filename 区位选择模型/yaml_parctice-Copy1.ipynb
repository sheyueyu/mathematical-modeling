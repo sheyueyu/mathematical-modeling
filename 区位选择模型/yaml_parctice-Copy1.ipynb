{
 "cells": [
  {
   "cell_type": "markdown",
   "metadata": {},
   "source": [
    "##### 它使用空白符号缩进和大量依赖外观的特色，特别适合用来表达或编辑数据结构、各种配置文件、倾印调试内容、文件大纲\n",
    "我们用yaml做配置文件\n"
   ]
  },
  {
   "cell_type": "code",
   "execution_count": 3,
   "metadata": {},
   "outputs": [],
   "source": [
    "import yaml #导入yaml包之后，就可以加载yaml文件并解析它\n",
    "import os"
   ]
  },
  {
   "cell_type": "code",
   "execution_count": 4,
   "metadata": {},
   "outputs": [],
   "source": [
    "#打开yaml文件，并获取yaml文件数据\n",
    "file = open('./configs/hlcm.yaml', 'r',encoding=\"utf-8\")\n",
    "file_data =  file.read()\n"
   ]
  },
  {
   "cell_type": "code",
   "execution_count": 5,
   "metadata": {},
   "outputs": [
    {
     "data": {
      "text/plain": [
       "str"
      ]
     },
     "execution_count": 5,
     "metadata": {},
     "output_type": "execute_result"
    }
   ],
   "source": [
    "#查看file_data的类型\n",
    "type(file_data)"
   ]
  },
  {
   "cell_type": "code",
   "execution_count": 6,
   "metadata": {
    "scrolled": false
   },
   "outputs": [],
   "source": [
    "#将字符串转换为字典或列表\n",
    "data = yaml.safe_load(file_data)"
   ]
  },
  {
   "cell_type": "markdown",
   "metadata": {},
   "source": [
    "##### 简单的一行，读取yaml文件，获取数据，并转换成字典"
   ]
  },
  {
   "cell_type": "code",
   "execution_count": 7,
   "metadata": {},
   "outputs": [
    {
     "data": {
      "text/plain": [
       "{'name': 'Household Location Choice Model',\n",
       " 'model_type': 'segmented_discretechoice',\n",
       " 'segmentation_col': 'income_quartile',\n",
       " 'choosers_fit_filters': None,\n",
       " 'choosers_predict_filters': None,\n",
       " 'alts_fit_filters': [\"general_type == 'Residential'\"],\n",
       " 'alts_predict_filters': [\"general_type == 'Residential'\"],\n",
       " 'interaction_predict_filters': None,\n",
       " 'choice_column': None,\n",
       " 'sample_size': 100,\n",
       " 'estimation_sample_size': 3000,\n",
       " 'prediction_sample_size': None,\n",
       " 'default_config': {'model_expression': 'np.log1p(residential_sales_price) + np.log1p(unit_sqft) + sum_residential_units + ave_unit_sqft + ave_lot_sqft + ave_income + hhsize + jobs + sfdu + renters + poor + population - 1'},\n",
       " 'models': {0: {'fit_parameters': {'Coefficient': {'ave_income': -1.6387580142238778,\n",
       "     'ave_lot_sqft': 0.058036758202680186,\n",
       "     'ave_unit_sqft': -0.4108375616711735,\n",
       "     'hhsize': -0.7344716467731971,\n",
       "     'jobs': 0.0579594008099341,\n",
       "     'np.log1p(residential_sales_price)': 0.985838370435962,\n",
       "     'np.log1p(unit_sqft)': 1.434464487861211,\n",
       "     'poor': 1.3617346067012341,\n",
       "     'population': -0.6990478915012853,\n",
       "     'renters': -0.452284902001466,\n",
       "     'sfdu': -0.03161298845328366,\n",
       "     'sum_residential_units': -0.09123378672310643},\n",
       "    'Std. Error': {'ave_income': 0.10608510271679196,\n",
       "     'ave_lot_sqft': 0.038386969602402184,\n",
       "     'ave_unit_sqft': 0.10898575259985335,\n",
       "     'hhsize': 0.14707565921749433,\n",
       "     'jobs': 0.03140497684222119,\n",
       "     'np.log1p(residential_sales_price)': 0.06085600538254531,\n",
       "     'np.log1p(unit_sqft)': 0.11373717305356704,\n",
       "     'poor': 0.089625574892765,\n",
       "     'population': 0.13413452427617872,\n",
       "     'renters': 0.03860275041670789,\n",
       "     'sfdu': 0.01918869229514345,\n",
       "     'sum_residential_units': 0.10758251902992703},\n",
       "    'T-Score': {'ave_income': -15.447579087506343,\n",
       "     'ave_lot_sqft': 1.5118869450702448,\n",
       "     'ave_unit_sqft': -3.7696446725434307,\n",
       "     'hhsize': -4.993835490392508,\n",
       "     'jobs': 1.845548274119816,\n",
       "     'np.log1p(residential_sales_price)': 16.19952483306963,\n",
       "     'np.log1p(unit_sqft)': 12.612099011689153,\n",
       "     'poor': 15.193594108941774,\n",
       "     'population': -5.211543376125657,\n",
       "     'renters': -11.71639059702103,\n",
       "     'sfdu': -1.6474800870763209,\n",
       "     'sum_residential_units': -0.8480354201199476}},\n",
       "   'fitted': True,\n",
       "   'log_likelihoods': {'convergence': -11271.077351655096,\n",
       "    'null': -13815.51055796495,\n",
       "    'ratio': 0.18417221684528562},\n",
       "   'name': 0},\n",
       "  1: {'fit_parameters': {'Coefficient': {'ave_income': -1.6821020990278517,\n",
       "     'ave_lot_sqft': 0.06982598545110776,\n",
       "     'ave_unit_sqft': -1.3236615004228631,\n",
       "     'hhsize': -0.15351299797841925,\n",
       "     'jobs': 0.13638983496456455,\n",
       "     'np.log1p(residential_sales_price)': 1.3483822398410124,\n",
       "     'np.log1p(unit_sqft)': 2.0426574670810553,\n",
       "     'poor': 0.6745725631247967,\n",
       "     'population': 0.07458183296247672,\n",
       "     'renters': -0.4590515779557558,\n",
       "     'sfdu': -0.06741332155359417,\n",
       "     'sum_residential_units': -0.2245928056279608},\n",
       "    'Std. Error': {'ave_income': 0.1031706363478618,\n",
       "     'ave_lot_sqft': 0.03991547678229064,\n",
       "     'ave_unit_sqft': 0.11921234853797026,\n",
       "     'hhsize': 0.14323555058133278,\n",
       "     'jobs': 0.031537410294476736,\n",
       "     'np.log1p(residential_sales_price)': 0.05178978310084811,\n",
       "     'np.log1p(unit_sqft)': 0.09531580913376723,\n",
       "     'poor': 0.08981336852199426,\n",
       "     'population': 0.13850883493144,\n",
       "     'renters': 0.042618509547396946,\n",
       "     'sfdu': 0.019153433701706128,\n",
       "     'sum_residential_units': 0.10819377176401763},\n",
       "    'T-Score': {'ave_income': -16.304077968040108,\n",
       "     'ave_lot_sqft': 1.7493461454051216,\n",
       "     'ave_unit_sqft': -11.103392531531785,\n",
       "     'hhsize': -1.0717520710143162,\n",
       "     'jobs': 4.324699894222165,\n",
       "     'np.log1p(residential_sales_price)': 26.03568038150234,\n",
       "     'np.log1p(unit_sqft)': 21.43041627243984,\n",
       "     'poor': 7.510825773777784,\n",
       "     'population': 0.5384626403030083,\n",
       "     'renters': -10.771178598942669,\n",
       "     'sfdu': -3.5196467956337876,\n",
       "     'sum_residential_units': -2.075838580780991}},\n",
       "   'fitted': True,\n",
       "   'log_likelihoods': {'convergence': -12468.172361759463,\n",
       "    'null': -13815.51055796495,\n",
       "    'ratio': 0.09752359064491578},\n",
       "   'name': 1},\n",
       "  2: {'fit_parameters': {'Coefficient': {'ave_income': -1.5419608627695554,\n",
       "     'ave_lot_sqft': 0.11808108841681049,\n",
       "     'ave_unit_sqft': -1.4858548913184129,\n",
       "     'hhsize': -0.3207342798218094,\n",
       "     'jobs': -0.008775376645483253,\n",
       "     'np.log1p(residential_sales_price)': 1.4531776229516902,\n",
       "     'np.log1p(unit_sqft)': 2.1889358701846375,\n",
       "     'poor': 0.2916790538838418,\n",
       "     'population': 0.2901319245860481,\n",
       "     'renters': -0.3893368877232734,\n",
       "     'sfdu': -0.01701063465236964,\n",
       "     'sum_residential_units': 0.0004646530679511582},\n",
       "    'Std. Error': {'ave_income': 0.09305065403861768,\n",
       "     'ave_lot_sqft': 0.04343498462864532,\n",
       "     'ave_unit_sqft': 0.10979188281808518,\n",
       "     'hhsize': 0.14357109797853349,\n",
       "     'jobs': 0.03195411074229909,\n",
       "     'np.log1p(residential_sales_price)': 0.037734733877485285,\n",
       "     'np.log1p(unit_sqft)': 0.06603734001097568,\n",
       "     'poor': 0.09033709165731837,\n",
       "     'population': 0.15123111126188213,\n",
       "     'renters': 0.047976897489643844,\n",
       "     'sfdu': 0.019018219743415513,\n",
       "     'sum_residential_units': 0.11393878288445683},\n",
       "    'T-Score': {'ave_income': -16.57119854450044,\n",
       "     'ave_lot_sqft': 2.7185709728313374,\n",
       "     'ave_unit_sqft': -13.53337654096282,\n",
       "     'hhsize': -2.23397525224586,\n",
       "     'jobs': -0.274624342271772,\n",
       "     'np.log1p(residential_sales_price)': 38.51034507543565,\n",
       "     'np.log1p(unit_sqft)': 33.146941863812614,\n",
       "     'poor': 3.2287850818829447,\n",
       "     'population': 1.9184671868451446,\n",
       "     'renters': -8.115090972844056,\n",
       "     'sfdu': -0.8944388529456897,\n",
       "     'sum_residential_units': 0.004078094009678461}},\n",
       "   'fitted': True,\n",
       "   'log_likelihoods': {'convergence': -12870.333320821343,\n",
       "    'null': -13815.51055796495,\n",
       "    'ratio': 0.06841420975200163},\n",
       "   'name': 2},\n",
       "  3: {'fit_parameters': {'Coefficient': {'ave_income': -0.6718658438924313,\n",
       "     'ave_lot_sqft': 0.023958920143148345,\n",
       "     'ave_unit_sqft': -1.0806167582057413,\n",
       "     'hhsize': -0.5593811098980866,\n",
       "     'jobs': 0.07047208209303023,\n",
       "     'np.log1p(residential_sales_price)': 1.415916909525878,\n",
       "     'np.log1p(unit_sqft)': 2.132748807494027,\n",
       "     'poor': 0.35052928711383574,\n",
       "     'population': 0.3719904218278727,\n",
       "     'renters': -0.32529353485772744,\n",
       "     'sfdu': -0.008088386919327891,\n",
       "     'sum_residential_units': -0.2926063588470592},\n",
       "    'Std. Error': {'ave_income': 0.09834701553382792,\n",
       "     'ave_lot_sqft': 0.0501780875975394,\n",
       "     'ave_unit_sqft': 0.1233983046659184,\n",
       "     'hhsize': 0.14594138956833058,\n",
       "     'jobs': 0.031132086768880806,\n",
       "     'np.log1p(residential_sales_price)': 0.03858561576152045,\n",
       "     'np.log1p(unit_sqft)': 0.06801690333759094,\n",
       "     'poor': 0.10246038009867281,\n",
       "     'population': 0.18677260974636734,\n",
       "     'renters': 0.06735803955056653,\n",
       "     'sfdu': 0.019859738142830673,\n",
       "     'sum_residential_units': 0.11901819954911037},\n",
       "    'T-Score': {'ave_income': -6.831583452182471,\n",
       "     'ave_lot_sqft': 0.47747774557122075,\n",
       "     'ave_unit_sqft': -8.757144282746363,\n",
       "     'hhsize': -3.832916155948901,\n",
       "     'jobs': 2.263647876102964,\n",
       "     'np.log1p(residential_sales_price)': 36.695459734969496,\n",
       "     'np.log1p(unit_sqft)': 31.356158584704627,\n",
       "     'poor': 3.4211203079303845,\n",
       "     'population': 1.9916754514113533,\n",
       "     'renters': -4.829320108307568,\n",
       "     'sfdu': -0.4072756076216334,\n",
       "     'sum_residential_units': -2.4585009683861108}},\n",
       "   'fitted': True,\n",
       "   'log_likelihoods': {'convergence': -13067.133614649012,\n",
       "    'null': -13806.300217592972,\n",
       "    'ratio': 0.053538355047651476},\n",
       "   'name': 3}},\n",
       " 'fitted': True,\n",
       " 'probability_mode': 'single_chooser',\n",
       " 'choice_mode': 'aggregate',\n",
       " 'remove_alts': True}"
      ]
     },
     "execution_count": 7,
     "metadata": {},
     "output_type": "execute_result"
    }
   ],
   "source": [
    "#简单的一行\n",
    "data = yaml.safe_load(open('./configs/hlcm.yaml','r',encoding=\"utf-8\"))\n",
    "data"
   ]
  },
  {
   "cell_type": "code",
   "execution_count": 8,
   "metadata": {},
   "outputs": [
    {
     "data": {
      "text/plain": [
       "[\"general_type == 'Residential'\"]"
      ]
     },
     "execution_count": 8,
     "metadata": {},
     "output_type": "execute_result"
    }
   ],
   "source": [
    "#获取data里面的数据\n",
    "data['alts_fit_filters']"
   ]
  },
  {
   "cell_type": "code",
   "execution_count": 9,
   "metadata": {},
   "outputs": [
    {
     "data": {
      "text/plain": [
       "{'model_expression': 'np.log1p(residential_sales_price) + np.log1p(unit_sqft) + sum_residential_units + ave_unit_sqft + ave_lot_sqft + ave_income + hhsize + jobs + sfdu + renters + poor + population - 1'}"
      ]
     },
     "execution_count": 9,
     "metadata": {},
     "output_type": "execute_result"
    }
   ],
   "source": [
    "data['default_config']  #字典"
   ]
  },
  {
   "cell_type": "code",
   "execution_count": 10,
   "metadata": {},
   "outputs": [
    {
     "data": {
      "text/plain": [
       "'segmented_discretechoice'"
      ]
     },
     "execution_count": 10,
     "metadata": {},
     "output_type": "execute_result"
    }
   ],
   "source": [
    "data['model_type']"
   ]
  },
  {
   "cell_type": "code",
   "execution_count": 11,
   "metadata": {
    "scrolled": true
   },
   "outputs": [
    {
     "data": {
      "text/plain": [
       "urbansim.models.dcm.SegmentedMNLDiscreteChoiceModel"
      ]
     },
     "execution_count": 11,
     "metadata": {},
     "output_type": "execute_result"
    }
   ],
   "source": [
    "from urbansim.models import RegressionModel, SegmentedRegressionModel, \\\n",
    "    MNLDiscreteChoiceModel, SegmentedMNLDiscreteChoiceModel, \\\n",
    "    GrowthRateTransition\n",
    "def yaml_to_class(cfg):\n",
    "    import yaml\n",
    "    model_type = yaml.safe_load(open(cfg))[\"model_type\"]\n",
    "    return {\n",
    "        \"regression\": RegressionModel,\n",
    "        \"segmented_regression\": SegmentedRegressionModel,\n",
    "        \"discretechoice\": MNLDiscreteChoiceModel,\n",
    "        \"segmented_discretechoice\": SegmentedMNLDiscreteChoiceModel\n",
    "    }[model_type]\n",
    "yaml_to_class('./configs/hlcm.yaml')"
   ]
  },
  {
   "cell_type": "code",
   "execution_count": 12,
   "metadata": {},
   "outputs": [],
   "source": [
    "cfg = './configs/hlcm.yaml'"
   ]
  },
  {
   "cell_type": "code",
   "execution_count": 13,
   "metadata": {},
   "outputs": [
    {
     "data": {
      "text/plain": [
       "<urbansim.models.dcm.SegmentedMNLDiscreteChoiceModel at 0x18f5cdcb1c8>"
      ]
     },
     "execution_count": 13,
     "metadata": {},
     "output_type": "execute_result"
    }
   ],
   "source": [
    "yaml_to_class(cfg).from_yaml(str_or_buffer = cfg)\n",
    "#这个from_yaml 是urbansim.models.dcm.SegmentedMNLDiscreteChoiceModel的from_yaml()函数"
   ]
  },
  {
   "cell_type": "markdown",
   "metadata": {},
   "source": [
    "##### from_yaml()从保存的yaml配置创建分段MNLCM 模型实例，参数是互斥的"
   ]
  },
  {
   "cell_type": "code",
   "execution_count": 14,
   "metadata": {
    "scrolled": true
   },
   "outputs": [
    {
     "data": {
      "text/plain": [
       "['general_type',\n",
       " 'residential_sales_price',\n",
       " 'unit_sqft',\n",
       " 'sum_residential_units',\n",
       " 'ave_unit_sqft',\n",
       " 'ave_lot_sqft',\n",
       " 'ave_income',\n",
       " 'hhsize',\n",
       " 'jobs',\n",
       " 'sfdu',\n",
       " 'renters',\n",
       " 'poor',\n",
       " 'population',\n",
       " 'income_quartile']"
      ]
     },
     "execution_count": 14,
     "metadata": {},
     "output_type": "execute_result"
    }
   ],
   "source": [
    "cfg = './configs/hlcm.yaml'\n",
    "yaml_to_class(cfg).from_yaml(str_or_buffer = cfg).columns_used()"
   ]
  },
  {
   "cell_type": "markdown",
   "metadata": {},
   "source": [
    "#### column_list()"
   ]
  },
  {
   "cell_type": "code",
   "execution_count": 15,
   "metadata": {},
   "outputs": [
    {
     "name": "stdout",
     "output_type": "stream",
     "text": [
      "Index(['household_id', 'building_id', 'building_type_id', 'income', 'persons',\n",
      "       'tenure', 'income_quartile', 'zone_id'],\n",
      "      dtype='object')\n"
     ]
    },
    {
     "data": {
      "text/plain": [
       "['income_quartile']"
      ]
     },
     "execution_count": 15,
     "metadata": {},
     "output_type": "execute_result"
    }
   ],
   "source": [
    "import numpy as np\n",
    "import pandas as pd\n",
    "import toolz as tz\n",
    "def column_list(tables, columns):\n",
    "    \"\"\"\n",
    "    Take a list of tables and a list of column names and return the columns\n",
    "    that are present in the tables.\n",
    "    获取表列表和列名列表，并返回表中存在的列。\n",
    "    Parameters\n",
    "    ----------\n",
    "    tables : sequence of _DataFrameWrapper or _TableFuncWrapper\n",
    "        Could also be sequence of modified pandas.DataFrames, the important\n",
    "        thing is that they have ``.name`` and ``.columns`` attributes.\n",
    "    columns : sequence of str\n",
    "        The column names of interest.\n",
    "        感兴趣的列名\n",
    "    Returns\n",
    "    -------\n",
    "    cols : list\n",
    "        Lists of column names available in the tables.\n",
    "        表中可用的列名\n",
    "    \"\"\"\n",
    "    columns = set(columns)\n",
    "    foundcols = tz.reduce(lambda x, y: x.union(y), (set(t.columns) for t in tables))\n",
    "    return list(columns.intersection(foundcols))\n",
    "\n",
    "df_households = pd.read_csv(r'D:\\git_syy\\pygeo-tutorial\\佘越宇练习\\区位选择模型\\households_包含需要进行区位选择的家庭.csv')\n",
    "\n",
    "cfg_columns =  ['general_type',\n",
    "     'residential_sales_price',\n",
    "     'unit_sqft',\n",
    "     'sum_residential_units',\n",
    "     'ave_unit_sqft',\n",
    "     'ave_lot_sqft',\n",
    "     'ave_income',\n",
    "     'hhsize',\n",
    "     'jobs',\n",
    "     'sfdu',\n",
    "     'renters',\n",
    "     'poor',\n",
    "     'population',\n",
    "     'income_quartile']\n",
    "print(df_households.columns)\n",
    "column_list([df_households], cfg_columns) #处于df_households，又处于cfg中的"
   ]
  },
  {
   "cell_type": "code",
   "execution_count": 16,
   "metadata": {},
   "outputs": [
    {
     "data": {
      "text/plain": [
       "['income_quartile', 'building_id']"
      ]
     },
     "execution_count": 16,
     "metadata": {},
     "output_type": "execute_result"
    }
   ],
   "source": [
    "tables = [df_households]\n",
    "cfg_columns_used =  ['general_type',\n",
    "     'residential_sales_price',\n",
    "     'unit_sqft',\n",
    "     'sum_residential_units',\n",
    "     'ave_unit_sqft',\n",
    "     'ave_lot_sqft',\n",
    "     'ave_income',\n",
    "     'hhsize',\n",
    "     'jobs',\n",
    "     'sfdu',\n",
    "     'renters',\n",
    "     'poor',\n",
    "     'population',\n",
    "     'income_quartile']\n",
    "additional_columns = [\"building_id\"]\n",
    "columns = column_list(tables, cfg_columns)+additional_columns\n",
    "columns  #这个就是我们需要的列名（to_frame ）"
   ]
  },
  {
   "cell_type": "code",
   "execution_count": 17,
   "metadata": {},
   "outputs": [
    {
     "data": {
      "text/plain": [
       "<orca.orca.DataFrameWrapper at 0x18f604a9e48>"
      ]
     },
     "execution_count": 17,
     "metadata": {},
     "output_type": "execute_result"
    }
   ],
   "source": [
    "import orca\n",
    "tables\n",
    "orca.add_table('households', df_households)"
   ]
  },
  {
   "cell_type": "code",
   "execution_count": 18,
   "metadata": {},
   "outputs": [
    {
     "data": {
      "text/plain": [
       "1"
      ]
     },
     "execution_count": 18,
     "metadata": {},
     "output_type": "execute_result"
    }
   ],
   "source": [
    "tables = [orca.get_table('households')]\n",
    "tables  = [t for t in tables if t is not None]\n",
    "len(tables)"
   ]
  },
  {
   "cell_type": "code",
   "execution_count": 19,
   "metadata": {},
   "outputs": [
    {
     "data": {
      "text/html": [
       "<div>\n",
       "<style scoped>\n",
       "    .dataframe tbody tr th:only-of-type {\n",
       "        vertical-align: middle;\n",
       "    }\n",
       "\n",
       "    .dataframe tbody tr th {\n",
       "        vertical-align: top;\n",
       "    }\n",
       "\n",
       "    .dataframe thead th {\n",
       "        text-align: right;\n",
       "    }\n",
       "</style>\n",
       "<table border=\"1\" class=\"dataframe\">\n",
       "  <thead>\n",
       "    <tr style=\"text-align: right;\">\n",
       "      <th></th>\n",
       "      <th>household_id</th>\n",
       "      <th>building_id</th>\n",
       "      <th>building_type_id</th>\n",
       "      <th>income</th>\n",
       "      <th>persons</th>\n",
       "      <th>tenure</th>\n",
       "      <th>income_quartile</th>\n",
       "      <th>zone_id</th>\n",
       "    </tr>\n",
       "  </thead>\n",
       "  <tbody>\n",
       "    <tr>\n",
       "      <th>0</th>\n",
       "      <td>1</td>\n",
       "      <td>136325</td>\n",
       "      <td>1</td>\n",
       "      <td>27310</td>\n",
       "      <td>1</td>\n",
       "      <td>2</td>\n",
       "      <td>0</td>\n",
       "      <td>38.0</td>\n",
       "    </tr>\n",
       "    <tr>\n",
       "      <th>1</th>\n",
       "      <td>4</td>\n",
       "      <td>133982</td>\n",
       "      <td>2</td>\n",
       "      <td>25000</td>\n",
       "      <td>1</td>\n",
       "      <td>2</td>\n",
       "      <td>0</td>\n",
       "      <td>44.0</td>\n",
       "    </tr>\n",
       "    <tr>\n",
       "      <th>2</th>\n",
       "      <td>5</td>\n",
       "      <td>25633</td>\n",
       "      <td>1</td>\n",
       "      <td>3100</td>\n",
       "      <td>1</td>\n",
       "      <td>1</td>\n",
       "      <td>0</td>\n",
       "      <td>170.0</td>\n",
       "    </tr>\n",
       "    <tr>\n",
       "      <th>3</th>\n",
       "      <td>6</td>\n",
       "      <td>132596</td>\n",
       "      <td>2</td>\n",
       "      <td>7200</td>\n",
       "      <td>1</td>\n",
       "      <td>1</td>\n",
       "      <td>0</td>\n",
       "      <td>45.0</td>\n",
       "    </tr>\n",
       "    <tr>\n",
       "      <th>4</th>\n",
       "      <td>7</td>\n",
       "      <td>57108</td>\n",
       "      <td>1</td>\n",
       "      <td>27310</td>\n",
       "      <td>1</td>\n",
       "      <td>2</td>\n",
       "      <td>0</td>\n",
       "      <td>164.0</td>\n",
       "    </tr>\n",
       "    <tr>\n",
       "      <th>...</th>\n",
       "      <td>...</td>\n",
       "      <td>...</td>\n",
       "      <td>...</td>\n",
       "      <td>...</td>\n",
       "      <td>...</td>\n",
       "      <td>...</td>\n",
       "      <td>...</td>\n",
       "      <td>...</td>\n",
       "    </tr>\n",
       "    <tr>\n",
       "      <th>345583</th>\n",
       "      <td>2630612</td>\n",
       "      <td>74346</td>\n",
       "      <td>3</td>\n",
       "      <td>690</td>\n",
       "      <td>1</td>\n",
       "      <td>1</td>\n",
       "      <td>0</td>\n",
       "      <td>148.0</td>\n",
       "    </tr>\n",
       "    <tr>\n",
       "      <th>345584</th>\n",
       "      <td>2630613</td>\n",
       "      <td>78154</td>\n",
       "      <td>3</td>\n",
       "      <td>24650</td>\n",
       "      <td>1</td>\n",
       "      <td>1</td>\n",
       "      <td>0</td>\n",
       "      <td>141.0</td>\n",
       "    </tr>\n",
       "    <tr>\n",
       "      <th>345585</th>\n",
       "      <td>2630614</td>\n",
       "      <td>-1</td>\n",
       "      <td>3</td>\n",
       "      <td>58000</td>\n",
       "      <td>1</td>\n",
       "      <td>1</td>\n",
       "      <td>1</td>\n",
       "      <td>NaN</td>\n",
       "    </tr>\n",
       "    <tr>\n",
       "      <th>345586</th>\n",
       "      <td>2630615</td>\n",
       "      <td>137578</td>\n",
       "      <td>3</td>\n",
       "      <td>15400</td>\n",
       "      <td>1</td>\n",
       "      <td>1</td>\n",
       "      <td>0</td>\n",
       "      <td>22.0</td>\n",
       "    </tr>\n",
       "    <tr>\n",
       "      <th>345587</th>\n",
       "      <td>2630617</td>\n",
       "      <td>129988</td>\n",
       "      <td>2</td>\n",
       "      <td>22000</td>\n",
       "      <td>1</td>\n",
       "      <td>1</td>\n",
       "      <td>0</td>\n",
       "      <td>11.0</td>\n",
       "    </tr>\n",
       "  </tbody>\n",
       "</table>\n",
       "<p>345588 rows × 8 columns</p>\n",
       "</div>"
      ],
      "text/plain": [
       "        household_id  building_id  building_type_id  income  persons  tenure  \\\n",
       "0                  1       136325                 1   27310        1       2   \n",
       "1                  4       133982                 2   25000        1       2   \n",
       "2                  5        25633                 1    3100        1       1   \n",
       "3                  6       132596                 2    7200        1       1   \n",
       "4                  7        57108                 1   27310        1       2   \n",
       "...              ...          ...               ...     ...      ...     ...   \n",
       "345583       2630612        74346                 3     690        1       1   \n",
       "345584       2630613        78154                 3   24650        1       1   \n",
       "345585       2630614           -1                 3   58000        1       1   \n",
       "345586       2630615       137578                 3   15400        1       1   \n",
       "345587       2630617       129988                 2   22000        1       1   \n",
       "\n",
       "        income_quartile  zone_id  \n",
       "0                     0     38.0  \n",
       "1                     0     44.0  \n",
       "2                     0    170.0  \n",
       "3                     0     45.0  \n",
       "4                     0    164.0  \n",
       "...                 ...      ...  \n",
       "345583                0    148.0  \n",
       "345584                0    141.0  \n",
       "345585                1      NaN  \n",
       "345586                0     22.0  \n",
       "345587                0     11.0  \n",
       "\n",
       "[345588 rows x 8 columns]"
      ]
     },
     "execution_count": 19,
     "metadata": {},
     "output_type": "execute_result"
    }
   ],
   "source": [
    "tables[0].to_frame()  #这个就是 家庭表，households"
   ]
  },
  {
   "cell_type": "code",
   "execution_count": 20,
   "metadata": {},
   "outputs": [],
   "source": [
    "columns = ['income_quartile', 'building_id']\n",
    "df = tables[0].to_frame(columns)\n",
    "df.to_csv('./chooser_df.csv')"
   ]
  },
  {
   "cell_type": "code",
   "execution_count": 21,
   "metadata": {},
   "outputs": [
    {
     "data": {
      "text/html": [
       "<div>\n",
       "<style scoped>\n",
       "    .dataframe tbody tr th:only-of-type {\n",
       "        vertical-align: middle;\n",
       "    }\n",
       "\n",
       "    .dataframe tbody tr th {\n",
       "        vertical-align: top;\n",
       "    }\n",
       "\n",
       "    .dataframe thead th {\n",
       "        text-align: right;\n",
       "    }\n",
       "</style>\n",
       "<table border=\"1\" class=\"dataframe\">\n",
       "  <thead>\n",
       "    <tr style=\"text-align: right;\">\n",
       "      <th></th>\n",
       "      <th>building_id</th>\n",
       "      <th>income_quartile</th>\n",
       "    </tr>\n",
       "  </thead>\n",
       "  <tbody>\n",
       "    <tr>\n",
       "      <th>0</th>\n",
       "      <td>136325</td>\n",
       "      <td>0</td>\n",
       "    </tr>\n",
       "    <tr>\n",
       "      <th>1</th>\n",
       "      <td>133982</td>\n",
       "      <td>0</td>\n",
       "    </tr>\n",
       "    <tr>\n",
       "      <th>2</th>\n",
       "      <td>25633</td>\n",
       "      <td>0</td>\n",
       "    </tr>\n",
       "    <tr>\n",
       "      <th>3</th>\n",
       "      <td>132596</td>\n",
       "      <td>0</td>\n",
       "    </tr>\n",
       "    <tr>\n",
       "      <th>4</th>\n",
       "      <td>57108</td>\n",
       "      <td>0</td>\n",
       "    </tr>\n",
       "    <tr>\n",
       "      <th>...</th>\n",
       "      <td>...</td>\n",
       "      <td>...</td>\n",
       "    </tr>\n",
       "    <tr>\n",
       "      <th>345583</th>\n",
       "      <td>74346</td>\n",
       "      <td>0</td>\n",
       "    </tr>\n",
       "    <tr>\n",
       "      <th>345584</th>\n",
       "      <td>78154</td>\n",
       "      <td>0</td>\n",
       "    </tr>\n",
       "    <tr>\n",
       "      <th>345585</th>\n",
       "      <td>-1</td>\n",
       "      <td>1</td>\n",
       "    </tr>\n",
       "    <tr>\n",
       "      <th>345586</th>\n",
       "      <td>137578</td>\n",
       "      <td>0</td>\n",
       "    </tr>\n",
       "    <tr>\n",
       "      <th>345587</th>\n",
       "      <td>129988</td>\n",
       "      <td>0</td>\n",
       "    </tr>\n",
       "  </tbody>\n",
       "</table>\n",
       "<p>345588 rows × 2 columns</p>\n",
       "</div>"
      ],
      "text/plain": [
       "        building_id  income_quartile\n",
       "0            136325                0\n",
       "1            133982                0\n",
       "2             25633                0\n",
       "3            132596                0\n",
       "4             57108                0\n",
       "...             ...              ...\n",
       "345583        74346                0\n",
       "345584        78154                0\n",
       "345585           -1                1\n",
       "345586       137578                0\n",
       "345587       129988                0\n",
       "\n",
       "[345588 rows x 2 columns]"
      ]
     },
     "execution_count": 21,
     "metadata": {},
     "output_type": "execute_result"
    }
   ],
   "source": [
    "df"
   ]
  },
  {
   "cell_type": "markdown",
   "metadata": {},
   "source": [
    "#### 下面来找一下location_df 表\n",
    "urbansim 制作的方式如下，一行一行看<br>\n",
    "locations_df = to_frame([buildings, nodes], cfg,[supply_fname, vacant_fname])"
   ]
  },
  {
   "cell_type": "code",
   "execution_count": 22,
   "metadata": {},
   "outputs": [
    {
     "name": "stdout",
     "output_type": "stream",
     "text": [
      "Index(['gid', 'tract', 'area', 'acres', 'sum_residential_units',\n",
      "       'sum_job_spaces', 'population', 'jobs', 'ave_lot_sqft', 'ave_income',\n",
      "       'hhsize', 'ave_unit_sqft', 'sfdu', 'poor', 'renters', 'zone_id.1'],\n",
      "      dtype='object')\n",
      "Index(['gid', 'tract', 'area', 'acres', 'sum_residential_units',\n",
      "       'sum_job_spaces', 'population', 'jobs', 'ave_lot_sqft', 'ave_income',\n",
      "       'hhsize', 'ave_unit_sqft', 'sfdu', 'poor', 'renters', 'zone_id'],\n",
      "      dtype='object')\n"
     ]
    }
   ],
   "source": [
    "buildings = pd.read_csv(r'D:\\git_syy\\pygeo-tutorial\\佘越宇练习\\区位选择模型\\区位选择的基础建筑物表.csv',index_col=0)\n",
    "nodes = pd.read_csv(r'D:\\git_syy\\pygeo-tutorial\\佘越宇练习\\区位选择模型\\区位选择的基础表zones.csv',index_col=0)\n",
    "households = pd.read_csv(r'D:\\git_syy\\pygeo-tutorial\\佘越宇练习\\区位选择模型\\households_包含需要进行区位选择的家庭.csv',index_col=0)\n",
    "choosers_df  = pd.read_csv('./chooser_df.csv',index_col=0)\n",
    "print(nodes.columns)\n",
    "nodes.columns=['gid', 'tract', 'area', 'acres', 'sum_residential_units',\n",
    "       'sum_job_spaces', 'population', 'jobs', 'ave_lot_sqft', 'ave_income',\n",
    "       'hhsize', 'ave_unit_sqft', 'sfdu', 'poor', 'renters', 'zone_id']\n",
    "# print(nodes.columns)\n",
    "print(nodes.columns)"
   ]
  },
  {
   "cell_type": "code",
   "execution_count": 23,
   "metadata": {},
   "outputs": [
    {
     "data": {
      "text/plain": [
       "<orca.orca.DataFrameWrapper at 0x18f604a5208>"
      ]
     },
     "execution_count": 23,
     "metadata": {},
     "output_type": "execute_result"
    }
   ],
   "source": [
    "orca.add_table('buildings',buildings)\n",
    "orca.add_table('zones',nodes)\n",
    "orca.add_table('households',households)\n",
    "orca.add_table('choosers_df',choosers_df)  \n",
    "# 既然打不败orca,那么就开始使用orca\n",
    "# 打不败yaml，就用yaml，不要想着脱离yaml，和orca，除非后期有专业的计算机人才指导"
   ]
  },
  {
   "cell_type": "code",
   "execution_count": 24,
   "metadata": {},
   "outputs": [],
   "source": [
    "import orca\n",
    "# cfg = misc.config(\"hlcm.yaml\")\n",
    "choosers = orca.get_table('households')\n",
    "nodes = orca.get_table('zones')\n",
    "buildings = orca.get_table('buildings')\n",
    "# choosers_df = orca.get_table('choosers_df')  "
   ]
  },
  {
   "cell_type": "code",
   "execution_count": 25,
   "metadata": {},
   "outputs": [
    {
     "data": {
      "text/html": [
       "<div>\n",
       "<style scoped>\n",
       "    .dataframe tbody tr th:only-of-type {\n",
       "        vertical-align: middle;\n",
       "    }\n",
       "\n",
       "    .dataframe tbody tr th {\n",
       "        vertical-align: top;\n",
       "    }\n",
       "\n",
       "    .dataframe thead th {\n",
       "        text-align: right;\n",
       "    }\n",
       "</style>\n",
       "<table border=\"1\" class=\"dataframe\">\n",
       "  <thead>\n",
       "    <tr style=\"text-align: right;\">\n",
       "      <th></th>\n",
       "      <th>gid</th>\n",
       "      <th>tract</th>\n",
       "      <th>area</th>\n",
       "      <th>acres</th>\n",
       "      <th>sum_residential_units</th>\n",
       "      <th>sum_job_spaces</th>\n",
       "      <th>population</th>\n",
       "      <th>jobs</th>\n",
       "      <th>ave_lot_sqft</th>\n",
       "      <th>ave_income</th>\n",
       "      <th>hhsize</th>\n",
       "      <th>ave_unit_sqft</th>\n",
       "      <th>sfdu</th>\n",
       "      <th>poor</th>\n",
       "      <th>renters</th>\n",
       "      <th>zone_id</th>\n",
       "    </tr>\n",
       "    <tr>\n",
       "      <th>zone_id</th>\n",
       "      <th></th>\n",
       "      <th></th>\n",
       "      <th></th>\n",
       "      <th></th>\n",
       "      <th></th>\n",
       "      <th></th>\n",
       "      <th></th>\n",
       "      <th></th>\n",
       "      <th></th>\n",
       "      <th></th>\n",
       "      <th></th>\n",
       "      <th></th>\n",
       "      <th></th>\n",
       "      <th></th>\n",
       "      <th></th>\n",
       "      <th></th>\n",
       "    </tr>\n",
       "  </thead>\n",
       "  <tbody>\n",
       "    <tr>\n",
       "      <th>1442</th>\n",
       "      <td>525</td>\n",
       "      <td>126100.0</td>\n",
       "      <td>5272042.0</td>\n",
       "      <td>121.029</td>\n",
       "      <td>NaN</td>\n",
       "      <td>NaN</td>\n",
       "      <td>0.0</td>\n",
       "      <td>NaN</td>\n",
       "      <td>7.723413</td>\n",
       "      <td>11.060384</td>\n",
       "      <td>1.098612</td>\n",
       "      <td>7.103939</td>\n",
       "      <td>0.0</td>\n",
       "      <td>0.0</td>\n",
       "      <td>0.0</td>\n",
       "      <td>1442</td>\n",
       "    </tr>\n",
       "    <tr>\n",
       "      <th>1434</th>\n",
       "      <td>508</td>\n",
       "      <td>114100.0</td>\n",
       "      <td>7820341.5</td>\n",
       "      <td>179.530</td>\n",
       "      <td>NaN</td>\n",
       "      <td>NaN</td>\n",
       "      <td>0.0</td>\n",
       "      <td>NaN</td>\n",
       "      <td>7.723413</td>\n",
       "      <td>11.060384</td>\n",
       "      <td>1.098612</td>\n",
       "      <td>7.103939</td>\n",
       "      <td>0.0</td>\n",
       "      <td>0.0</td>\n",
       "      <td>0.0</td>\n",
       "      <td>1434</td>\n",
       "    </tr>\n",
       "    <tr>\n",
       "      <th>246</th>\n",
       "      <td>784</td>\n",
       "      <td>605000.0</td>\n",
       "      <td>4247867.5</td>\n",
       "      <td>97.518</td>\n",
       "      <td>NaN</td>\n",
       "      <td>NaN</td>\n",
       "      <td>0.0</td>\n",
       "      <td>NaN</td>\n",
       "      <td>7.723413</td>\n",
       "      <td>11.060384</td>\n",
       "      <td>1.098612</td>\n",
       "      <td>7.103939</td>\n",
       "      <td>0.0</td>\n",
       "      <td>0.0</td>\n",
       "      <td>0.0</td>\n",
       "      <td>246</td>\n",
       "    </tr>\n",
       "    <tr>\n",
       "      <th>1312</th>\n",
       "      <td>560</td>\n",
       "      <td>201800.0</td>\n",
       "      <td>759732500.0</td>\n",
       "      <td>17441.059</td>\n",
       "      <td>NaN</td>\n",
       "      <td>NaN</td>\n",
       "      <td>0.0</td>\n",
       "      <td>NaN</td>\n",
       "      <td>7.723413</td>\n",
       "      <td>11.060384</td>\n",
       "      <td>1.098612</td>\n",
       "      <td>7.103939</td>\n",
       "      <td>0.0</td>\n",
       "      <td>0.0</td>\n",
       "      <td>0.0</td>\n",
       "      <td>1312</td>\n",
       "    </tr>\n",
       "    <tr>\n",
       "      <th>705</th>\n",
       "      <td>1205</td>\n",
       "      <td>512507.0</td>\n",
       "      <td>27835386.0</td>\n",
       "      <td>639.013</td>\n",
       "      <td>NaN</td>\n",
       "      <td>NaN</td>\n",
       "      <td>0.0</td>\n",
       "      <td>NaN</td>\n",
       "      <td>7.723413</td>\n",
       "      <td>11.060384</td>\n",
       "      <td>1.098612</td>\n",
       "      <td>7.103939</td>\n",
       "      <td>0.0</td>\n",
       "      <td>0.0</td>\n",
       "      <td>0.0</td>\n",
       "      <td>705</td>\n",
       "    </tr>\n",
       "    <tr>\n",
       "      <th>...</th>\n",
       "      <td>...</td>\n",
       "      <td>...</td>\n",
       "      <td>...</td>\n",
       "      <td>...</td>\n",
       "      <td>...</td>\n",
       "      <td>...</td>\n",
       "      <td>...</td>\n",
       "      <td>...</td>\n",
       "      <td>...</td>\n",
       "      <td>...</td>\n",
       "      <td>...</td>\n",
       "      <td>...</td>\n",
       "      <td>...</td>\n",
       "      <td>...</td>\n",
       "      <td>...</td>\n",
       "      <td>...</td>\n",
       "    </tr>\n",
       "    <tr>\n",
       "      <th>769</th>\n",
       "      <td>1446</td>\n",
       "      <td>NaN</td>\n",
       "      <td>23591500.0</td>\n",
       "      <td>541.586</td>\n",
       "      <td>NaN</td>\n",
       "      <td>NaN</td>\n",
       "      <td>0.0</td>\n",
       "      <td>NaN</td>\n",
       "      <td>7.723413</td>\n",
       "      <td>11.060384</td>\n",
       "      <td>1.098612</td>\n",
       "      <td>7.103939</td>\n",
       "      <td>0.0</td>\n",
       "      <td>0.0</td>\n",
       "      <td>0.0</td>\n",
       "      <td>769</td>\n",
       "    </tr>\n",
       "    <tr>\n",
       "      <th>874</th>\n",
       "      <td>1447</td>\n",
       "      <td>NaN</td>\n",
       "      <td>9820885.0</td>\n",
       "      <td>225.456</td>\n",
       "      <td>NaN</td>\n",
       "      <td>NaN</td>\n",
       "      <td>0.0</td>\n",
       "      <td>NaN</td>\n",
       "      <td>7.723413</td>\n",
       "      <td>11.060384</td>\n",
       "      <td>1.098612</td>\n",
       "      <td>7.103939</td>\n",
       "      <td>0.0</td>\n",
       "      <td>0.0</td>\n",
       "      <td>0.0</td>\n",
       "      <td>874</td>\n",
       "    </tr>\n",
       "    <tr>\n",
       "      <th>1146</th>\n",
       "      <td>1452</td>\n",
       "      <td>NaN</td>\n",
       "      <td>1179567.5</td>\n",
       "      <td>27.079</td>\n",
       "      <td>NaN</td>\n",
       "      <td>NaN</td>\n",
       "      <td>0.0</td>\n",
       "      <td>NaN</td>\n",
       "      <td>7.723413</td>\n",
       "      <td>11.060384</td>\n",
       "      <td>1.098612</td>\n",
       "      <td>7.103939</td>\n",
       "      <td>0.0</td>\n",
       "      <td>0.0</td>\n",
       "      <td>0.0</td>\n",
       "      <td>1146</td>\n",
       "    </tr>\n",
       "    <tr>\n",
       "      <th>1201</th>\n",
       "      <td>1453</td>\n",
       "      <td>NaN</td>\n",
       "      <td>2534543.2</td>\n",
       "      <td>58.185</td>\n",
       "      <td>NaN</td>\n",
       "      <td>NaN</td>\n",
       "      <td>0.0</td>\n",
       "      <td>NaN</td>\n",
       "      <td>7.723413</td>\n",
       "      <td>11.060384</td>\n",
       "      <td>1.098612</td>\n",
       "      <td>7.103939</td>\n",
       "      <td>0.0</td>\n",
       "      <td>0.0</td>\n",
       "      <td>0.0</td>\n",
       "      <td>1201</td>\n",
       "    </tr>\n",
       "    <tr>\n",
       "      <th>1202</th>\n",
       "      <td>1454</td>\n",
       "      <td>NaN</td>\n",
       "      <td>783910.6</td>\n",
       "      <td>17.996</td>\n",
       "      <td>NaN</td>\n",
       "      <td>NaN</td>\n",
       "      <td>0.0</td>\n",
       "      <td>NaN</td>\n",
       "      <td>7.723413</td>\n",
       "      <td>11.060384</td>\n",
       "      <td>1.098612</td>\n",
       "      <td>7.103939</td>\n",
       "      <td>0.0</td>\n",
       "      <td>0.0</td>\n",
       "      <td>0.0</td>\n",
       "      <td>1202</td>\n",
       "    </tr>\n",
       "  </tbody>\n",
       "</table>\n",
       "<p>1454 rows × 16 columns</p>\n",
       "</div>"
      ],
      "text/plain": [
       "          gid     tract         area      acres  sum_residential_units  \\\n",
       "zone_id                                                                  \n",
       "1442      525  126100.0    5272042.0    121.029                    NaN   \n",
       "1434      508  114100.0    7820341.5    179.530                    NaN   \n",
       "246       784  605000.0    4247867.5     97.518                    NaN   \n",
       "1312      560  201800.0  759732500.0  17441.059                    NaN   \n",
       "705      1205  512507.0   27835386.0    639.013                    NaN   \n",
       "...       ...       ...          ...        ...                    ...   \n",
       "769      1446       NaN   23591500.0    541.586                    NaN   \n",
       "874      1447       NaN    9820885.0    225.456                    NaN   \n",
       "1146     1452       NaN    1179567.5     27.079                    NaN   \n",
       "1201     1453       NaN    2534543.2     58.185                    NaN   \n",
       "1202     1454       NaN     783910.6     17.996                    NaN   \n",
       "\n",
       "         sum_job_spaces  population  jobs  ave_lot_sqft  ave_income    hhsize  \\\n",
       "zone_id                                                                         \n",
       "1442                NaN         0.0   NaN      7.723413   11.060384  1.098612   \n",
       "1434                NaN         0.0   NaN      7.723413   11.060384  1.098612   \n",
       "246                 NaN         0.0   NaN      7.723413   11.060384  1.098612   \n",
       "1312                NaN         0.0   NaN      7.723413   11.060384  1.098612   \n",
       "705                 NaN         0.0   NaN      7.723413   11.060384  1.098612   \n",
       "...                 ...         ...   ...           ...         ...       ...   \n",
       "769                 NaN         0.0   NaN      7.723413   11.060384  1.098612   \n",
       "874                 NaN         0.0   NaN      7.723413   11.060384  1.098612   \n",
       "1146                NaN         0.0   NaN      7.723413   11.060384  1.098612   \n",
       "1201                NaN         0.0   NaN      7.723413   11.060384  1.098612   \n",
       "1202                NaN         0.0   NaN      7.723413   11.060384  1.098612   \n",
       "\n",
       "         ave_unit_sqft  sfdu  poor  renters  zone_id  \n",
       "zone_id                                               \n",
       "1442          7.103939   0.0   0.0      0.0     1442  \n",
       "1434          7.103939   0.0   0.0      0.0     1434  \n",
       "246           7.103939   0.0   0.0      0.0      246  \n",
       "1312          7.103939   0.0   0.0      0.0     1312  \n",
       "705           7.103939   0.0   0.0      0.0      705  \n",
       "...                ...   ...   ...      ...      ...  \n",
       "769           7.103939   0.0   0.0      0.0      769  \n",
       "874           7.103939   0.0   0.0      0.0      874  \n",
       "1146          7.103939   0.0   0.0      0.0     1146  \n",
       "1201          7.103939   0.0   0.0      0.0     1201  \n",
       "1202          7.103939   0.0   0.0      0.0     1202  \n",
       "\n",
       "[1454 rows x 16 columns]"
      ]
     },
     "execution_count": 25,
     "metadata": {},
     "output_type": "execute_result"
    }
   ],
   "source": [
    "nodes.to_frame()"
   ]
  },
  {
   "cell_type": "code",
   "execution_count": 26,
   "metadata": {
    "scrolled": true
   },
   "outputs": [
    {
     "data": {
      "text/plain": [
       "['gid',\n",
       " 'tract',\n",
       " 'area',\n",
       " 'acres',\n",
       " 'sum_residential_units',\n",
       " 'sum_job_spaces',\n",
       " 'population',\n",
       " 'jobs',\n",
       " 'ave_lot_sqft',\n",
       " 'ave_income',\n",
       " 'hhsize',\n",
       " 'ave_unit_sqft',\n",
       " 'sfdu',\n",
       " 'poor',\n",
       " 'renters',\n",
       " 'zone_id']"
      ]
     },
     "execution_count": 26,
     "metadata": {},
     "output_type": "execute_result"
    }
   ],
   "source": [
    "[buildings, nodes]\n",
    "nodes.columns"
   ]
  },
  {
   "cell_type": "markdown",
   "metadata": {},
   "source": [
    "##### cfg\n",
    "cfg = misc.config('./yaml_syy_test.yaml')"
   ]
  },
  {
   "cell_type": "code",
   "execution_count": null,
   "metadata": {},
   "outputs": [],
   "source": []
  }
 ],
 "metadata": {
  "kernelspec": {
   "display_name": "Python 3 (ipykernel)",
   "language": "python",
   "name": "python3"
  },
  "language_info": {
   "codemirror_mode": {
    "name": "ipython",
    "version": 3
   },
   "file_extension": ".py",
   "mimetype": "text/x-python",
   "name": "python",
   "nbconvert_exporter": "python",
   "pygments_lexer": "ipython3",
   "version": "3.7.4"
  }
 },
 "nbformat": 4,
 "nbformat_minor": 2
}
