{
 "cells": [
  {
   "cell_type": "markdown",
   "metadata": {},
   "source": [
    "## 1.了解yaml"
   ]
  },
  {
   "cell_type": "markdown",
   "metadata": {},
   "source": [
    "##### 它使用空白符号缩进和大量依赖外观的特色，特别适合用来表达或编辑数据结构、各种配置文件、倾印调试内容、文件大纲\n",
    "我们用yaml做配置文件\n"
   ]
  },
  {
   "cell_type": "code",
   "execution_count": 4,
   "metadata": {},
   "outputs": [],
   "source": [
    "import yaml #导入yaml包之后，就可以加载yaml文件并解析它\n",
    "import os"
   ]
  },
  {
   "cell_type": "code",
   "execution_count": 5,
   "metadata": {},
   "outputs": [
    {
     "name": "stderr",
     "output_type": "stream",
     "text": [
      "D:\\ANACONDA\\lib\\site-packages\\ipykernel_launcher.py:2: YAMLLoadWarning: calling yaml.load() without Loader=... is deprecated, as the default Loader is unsafe. Please read https://msg.pyyaml.org/load for full details.\n",
      "  \n"
     ]
    },
    {
     "data": {
      "text/plain": [
       "{'name': 'Household Location Choice Model',\n",
       " 'model_type': 'segmented_discretechoice',\n",
       " 'segmentation_col': 'income_quartile',\n",
       " 'choosers_fit_filters': None,\n",
       " 'choosers_predict_filters': None,\n",
       " 'alts_fit_filters': [\"general_type == 'Residential'\"],\n",
       " 'alts_predict_filters': [\"general_type == 'Residential'\"],\n",
       " 'interaction_predict_filters': None,\n",
       " 'choice_column': None,\n",
       " 'sample_size': 100,\n",
       " 'estimation_sample_size': 3000,\n",
       " 'prediction_sample_size': None,\n",
       " 'default_config': {'model_expression': 'np.log1p(residential_sales_price) + np.log1p(unit_sqft) + sum_residential_units + ave_unit_sqft + ave_lot_sqft + ave_income + hhsize + jobs + sfdu + renters + poor + population - 1'},\n",
       " 'models': {0: {'fit_parameters': {'Coefficient': {'ave_income': -0.1803739241436568,\n",
       "     'ave_lot_sqft': -0.14524735635397554,\n",
       "     'ave_unit_sqft': 0.5248733590599849,\n",
       "     'hhsize': -0.7902166295229691,\n",
       "     'jobs': 0.048439041766531486,\n",
       "     'np.log1p(residential_sales_price)': -0.03454228784548852,\n",
       "     'np.log1p(unit_sqft)': -0.40756778180221936,\n",
       "     'poor': 1.0838030640269003,\n",
       "     'population': -0.46847012592336074,\n",
       "     'renters': -0.5818956931260558,\n",
       "     'sfdu': 0.00230009430171635,\n",
       "     'sum_residential_units': 0.21671530494163677},\n",
       "    'Std. Error': {'ave_income': 0.07531381518873051,\n",
       "     'ave_lot_sqft': 0.03784535172368536,\n",
       "     'ave_unit_sqft': 0.09989305510005676,\n",
       "     'hhsize': 0.14522972901947453,\n",
       "     'jobs': 0.03199396619198153,\n",
       "     'np.log1p(residential_sales_price)': 0.01758639551030232,\n",
       "     'np.log1p(unit_sqft)': 0.02418542446064835,\n",
       "     'poor': 0.08855868908503683,\n",
       "     'population': 0.13424113186951048,\n",
       "     'renters': 0.03896063619846275,\n",
       "     'sfdu': 0.018990132841754458,\n",
       "     'sum_residential_units': 0.1100368055967709},\n",
       "    'T-Score': {'ave_income': -2.394964638182967,\n",
       "     'ave_lot_sqft': -3.8379179935873884,\n",
       "     'ave_unit_sqft': 5.254352853001156,\n",
       "     'hhsize': -5.441149238920671,\n",
       "     'jobs': 1.5140055307888491,\n",
       "     'np.log1p(residential_sales_price)': -1.9641482431833877,\n",
       "     'np.log1p(unit_sqft)': -16.851793627412462,\n",
       "     'poor': 12.238246469369015,\n",
       "     'population': -3.48976591152955,\n",
       "     'renters': -14.935477186817995,\n",
       "     'sfdu': 0.1211204956217594,\n",
       "     'sum_residential_units': 1.969480154992762}},\n",
       "   'fitted': True,\n",
       "   'log_likelihoods': {'convergence': -11272.980350784424,\n",
       "    'null': -13815.51055796495,\n",
       "    'ratio': 0.18403447317513},\n",
       "   'name': 0},\n",
       "  1: {'fit_parameters': {'Coefficient': {'ave_income': 0.9760441974849504,\n",
       "     'ave_lot_sqft': -0.22171233920539116,\n",
       "     'ave_unit_sqft': 0.18880301896809948,\n",
       "     'hhsize': -0.2966366282005702,\n",
       "     'jobs': 0.024523346822834323,\n",
       "     'np.log1p(residential_sales_price)': -0.06538198062922415,\n",
       "     'np.log1p(unit_sqft)': -0.5407372320778584,\n",
       "     'poor': 0.7113257057322456,\n",
       "     'population': 0.25538660009868125,\n",
       "     'renters': -0.768861215511388,\n",
       "     'sfdu': -0.0510075710848377,\n",
       "     'sum_residential_units': 0.10105104702225415},\n",
       "    'Std. Error': {'ave_income': 0.08817976154101738,\n",
       "     'ave_lot_sqft': 0.04108488726886964,\n",
       "     'ave_unit_sqft': 0.12329615915579008,\n",
       "     'hhsize': 0.14244159243511012,\n",
       "     'jobs': 0.03235006385684887,\n",
       "     'np.log1p(residential_sales_price)': 0.020297629347154053,\n",
       "     'np.log1p(unit_sqft)': 0.025808314818028158,\n",
       "     'poor': 0.08997651402601049,\n",
       "     'population': 0.1484695927073636,\n",
       "     'renters': 0.043924738110232425,\n",
       "     'sfdu': 0.019131018755463417,\n",
       "     'sum_residential_units': 0.11289318359429772},\n",
       "    'T-Score': {'ave_income': 11.068800600361538,\n",
       "     'ave_lot_sqft': -5.396445115072384,\n",
       "     'ave_unit_sqft': 1.5312968405572036,\n",
       "     'hhsize': -2.0825141247680468,\n",
       "     'jobs': 0.7580617748191077,\n",
       "     'np.log1p(residential_sales_price)': -3.221163393566028,\n",
       "     'np.log1p(unit_sqft)': -20.95205502143563,\n",
       "     'poor': 7.905681981929361,\n",
       "     'population': 1.720127303117569,\n",
       "     'renters': -17.504059183730888,\n",
       "     'sfdu': -2.6662234634144095,\n",
       "     'sum_residential_units': 0.8951031745672046}},\n",
       "   'fitted': True,\n",
       "   'log_likelihoods': {'convergence': -12676.200689325591,\n",
       "    'null': -13815.51055796495,\n",
       "    'ratio': 0.08246599818799472},\n",
       "   'name': 1},\n",
       "  2: {'fit_parameters': {'Coefficient': {'ave_income': 0.7464369261158218,\n",
       "     'ave_lot_sqft': -0.31582475788219655,\n",
       "     'ave_unit_sqft': 0.08038480359637157,\n",
       "     'hhsize': -0.4942573388300946,\n",
       "     'jobs': 0.13424127354199916,\n",
       "     'np.log1p(residential_sales_price)': -0.08117221489922694,\n",
       "     'np.log1p(unit_sqft)': -0.6268758724593103,\n",
       "     'poor': 0.1387485664472487,\n",
       "     'population': 0.44904171971604345,\n",
       "     'renters': -0.41796688237532864,\n",
       "     'sfdu': -0.024905628358013472,\n",
       "     'sum_residential_units': 0.01916476461846031},\n",
       "    'Std. Error': {'ave_income': 0.08854531474584838,\n",
       "     'ave_lot_sqft': 0.04682490261131455,\n",
       "     'ave_unit_sqft': 0.12274462879902195,\n",
       "     'hhsize': 0.14203319732685207,\n",
       "     'jobs': 0.03202905519882452,\n",
       "     'np.log1p(residential_sales_price)': 0.021387809608176354,\n",
       "     'np.log1p(unit_sqft)': 0.025567375709626725,\n",
       "     'poor': 0.0913176301393557,\n",
       "     'population': 0.16312344725154934,\n",
       "     'renters': 0.05323616170214413,\n",
       "     'sfdu': 0.019289709818262328,\n",
       "     'sum_residential_units': 0.12119963762170179},\n",
       "    'T-Score': {'ave_income': 8.429999128224003,\n",
       "     'ave_lot_sqft': -6.744803304852622,\n",
       "     'ave_unit_sqft': 0.6548946734605473,\n",
       "     'hhsize': -3.4798719463639984,\n",
       "     'jobs': 4.19123426241202,\n",
       "     'np.log1p(residential_sales_price)': -3.7952561008489423,\n",
       "     'np.log1p(unit_sqft)': -24.518584917703407,\n",
       "     'poor': 1.5194061238285619,\n",
       "     'population': 2.7527723774963224,\n",
       "     'renters': -7.851183650576647,\n",
       "     'sfdu': -1.2911354599245621,\n",
       "     'sum_residential_units': 0.15812559339722568}},\n",
       "   'fitted': True,\n",
       "   'log_likelihoods': {'convergence': -13122.647608616982,\n",
       "    'null': -13815.51055796495,\n",
       "    'ratio': 0.05015109260283668},\n",
       "   'name': 2},\n",
       "  3: {'fit_parameters': {'Coefficient': {'ave_income': 2.171622871156705,\n",
       "     'ave_lot_sqft': -0.20737313356565892,\n",
       "     'ave_unit_sqft': 0.231335627319998,\n",
       "     'hhsize': -0.7947046054745576,\n",
       "     'jobs': 0.10647976346781186,\n",
       "     'np.log1p(residential_sales_price)': -0.0698547974588592,\n",
       "     'np.log1p(unit_sqft)': -0.6325903365008342,\n",
       "     'poor': 0.4559553984955807,\n",
       "     'population': 0.36095118650513475,\n",
       "     'renters': -0.49179078572803875,\n",
       "     'sfdu': -0.0403140655426371,\n",
       "     'sum_residential_units': -0.15175792992379028},\n",
       "    'Std. Error': {'ave_income': 0.0909598552823242,\n",
       "     'ave_lot_sqft': 0.04947999544939408,\n",
       "     'ave_unit_sqft': 0.11872283890188194,\n",
       "     'hhsize': 0.14807978890924947,\n",
       "     'jobs': 0.031902799006345475,\n",
       "     'np.log1p(residential_sales_price)': 0.025101818998330718,\n",
       "     'np.log1p(unit_sqft)': 0.026326915030819135,\n",
       "     'poor': 0.10014120228704465,\n",
       "     'population': 0.17966473631031446,\n",
       "     'renters': 0.06258723967511072,\n",
       "     'sfdu': 0.019515794006409775,\n",
       "     'sum_residential_units': 0.1225342306619868},\n",
       "    'T-Score': {'ave_income': 23.87451985731893,\n",
       "     'ave_lot_sqft': -4.191049972463131,\n",
       "     'ave_unit_sqft': 1.9485351719999255,\n",
       "     'hhsize': -5.366732430727541,\n",
       "     'jobs': 3.337630765458323,\n",
       "     'np.log1p(residential_sales_price)': -2.7828579858497333,\n",
       "     'np.log1p(unit_sqft)': -24.028274325355007,\n",
       "     'poor': 4.553124868509473,\n",
       "     'population': 2.0090263338138032,\n",
       "     'renters': -7.85768454210341,\n",
       "     'sfdu': -2.06571485276983,\n",
       "     'sum_residential_units': -1.2384941669272618}},\n",
       "   'fitted': True,\n",
       "   'log_likelihoods': {'convergence': -13229.157418338622,\n",
       "    'null': -13815.51055796495,\n",
       "    'ratio': 0.04244165549772483},\n",
       "   'name': 3}},\n",
       " 'fitted': True,\n",
       " 'probability_mode': 'single_chooser',\n",
       " 'choice_mode': 'aggregate',\n",
       " 'remove_alts': True}"
      ]
     },
     "execution_count": 5,
     "metadata": {},
     "output_type": "execute_result"
    }
   ],
   "source": [
    "#读取yaml文件，获取数据，并转换成字典\n",
    "data = yaml.load(open('./hlcm.yaml','r',encoding=\"utf-8\"))\n",
    "data"
   ]
  },
  {
   "cell_type": "code",
   "execution_count": 6,
   "metadata": {},
   "outputs": [
    {
     "data": {
      "text/plain": [
       "[\"general_type == 'Residential'\"]"
      ]
     },
     "execution_count": 6,
     "metadata": {},
     "output_type": "execute_result"
    }
   ],
   "source": [
    "#获取data里面的数据\n",
    "data['alts_fit_filters']"
   ]
  },
  {
   "cell_type": "markdown",
   "metadata": {},
   "source": [
    "## 2. 需要的一些函数"
   ]
  },
  {
   "cell_type": "markdown",
   "metadata": {},
   "source": [
    "##### yaml_to_class"
   ]
  },
  {
   "cell_type": "code",
   "execution_count": 35,
   "metadata": {},
   "outputs": [
    {
     "name": "stderr",
     "output_type": "stream",
     "text": [
      "D:\\ANACONDA\\lib\\site-packages\\ipykernel_launcher.py:6: YAMLLoadWarning: calling yaml.load() without Loader=... is deprecated, as the default Loader is unsafe. Please read https://msg.pyyaml.org/load for full details.\n",
      "  \n"
     ]
    },
    {
     "data": {
      "text/plain": [
       "urbansim.models.dcm.SegmentedMNLDiscreteChoiceModel"
      ]
     },
     "execution_count": 35,
     "metadata": {},
     "output_type": "execute_result"
    }
   ],
   "source": [
    "from urbansim.models import RegressionModel, SegmentedRegressionModel, \\\n",
    "    MNLDiscreteChoiceModel, SegmentedMNLDiscreteChoiceModel, \\\n",
    "    GrowthRateTransition\n",
    "def yaml_to_class(cfg):\n",
    "    import yaml\n",
    "    model_type = yaml.load(open(cfg))[\"model_type\"]\n",
    "    return {\n",
    "        \"regression\": RegressionModel,\n",
    "        \"segmented_regression\": SegmentedRegressionModel,\n",
    "        \"discretechoice\": MNLDiscreteChoiceModel,\n",
    "        \"segmented_discretechoice\": SegmentedMNLDiscreteChoiceModel\n",
    "    }[model_type]\n",
    "yaml_to_class('./hlcm.yaml')"
   ]
  },
  {
   "cell_type": "markdown",
   "metadata": {},
   "source": [
    "##### cfg"
   ]
  },
  {
   "cell_type": "code",
   "execution_count": 37,
   "metadata": {
    "scrolled": false
   },
   "outputs": [
    {
     "name": "stderr",
     "output_type": "stream",
     "text": [
      "D:\\ANACONDA\\lib\\site-packages\\ipykernel_launcher.py:6: YAMLLoadWarning: calling yaml.load() without Loader=... is deprecated, as the default Loader is unsafe. Please read https://msg.pyyaml.org/load for full details.\n",
      "  \n"
     ]
    },
    {
     "data": {
      "text/plain": [
       "<urbansim.models.dcm.SegmentedMNLDiscreteChoiceModel at 0x2389a0376c8>"
      ]
     },
     "execution_count": 37,
     "metadata": {},
     "output_type": "execute_result"
    }
   ],
   "source": [
    "cfg = './hlcm.yaml'\n",
    "cfg = yaml_to_class(cfg).from_yaml(str_or_buffer = cfg)\n",
    "cfg\n",
    "#这个from_yaml 是urbansim.models.dcm.SegmentedMNLDiscreteChoiceModel的from_yaml()函数"
   ]
  },
  {
   "cell_type": "markdown",
   "metadata": {},
   "source": [
    "##### column_list"
   ]
  },
  {
   "cell_type": "code",
   "execution_count": 16,
   "metadata": {},
   "outputs": [
    {
     "name": "stdout",
     "output_type": "stream",
     "text": [
      "Index(['household_id', 'building_id', 'building_type_id', 'income', 'persons',\n",
      "       'tenure', 'income_quartile', 'zone_id'],\n",
      "      dtype='object')\n"
     ]
    },
    {
     "data": {
      "text/plain": [
       "['income_quartile']"
      ]
     },
     "execution_count": 16,
     "metadata": {},
     "output_type": "execute_result"
    }
   ],
   "source": [
    "import numpy as np\n",
    "import pandas as pd\n",
    "import toolz as tz\n",
    "def column_list(tables, columns):\n",
    "    \"\"\"\n",
    "返回tables中位于cfg使用列的列名，就是又存在于tables中，又存在与cfg中的\n",
    "    \"\"\"\n",
    "    columns = set(columns)\n",
    "    foundcols = tz.reduce(lambda x, y: x.union(y), (set(t.columns) for t in tables))\n",
    "    return list(columns.intersection(foundcols))\n",
    "\n",
    "df_households = pd.read_csv(r'D:\\git_syy\\pygeo-tutorial\\佘越宇练习\\区位选择模型\\households_包含需要进行区位选择的家庭.csv')\n",
    "\n",
    "cfg_columns_used =  ['general_type',\n",
    "     'residential_sales_price',\n",
    "     'unit_sqft',\n",
    "     'sum_residential_units',\n",
    "     'ave_unit_sqft',\n",
    "     'ave_lot_sqft',\n",
    "     'ave_income',\n",
    "     'hhsize',\n",
    "     'jobs',\n",
    "     'sfdu',\n",
    "     'renters',\n",
    "     'poor',\n",
    "     'population',\n",
    "     'income_quartile']\n",
    "print(df_households.columns)\n",
    "cfg_columns = cfg_columns_used\n",
    "column_list([df_households], cfg_columns) #处于df_households，又处于cfg中的"
   ]
  },
  {
   "cell_type": "markdown",
   "metadata": {},
   "source": [
    "##### from_yaml()从保存的yaml配置创建分段MNLCM 模型实例"
   ]
  },
  {
   "cell_type": "code",
   "execution_count": 17,
   "metadata": {},
   "outputs": [
    {
     "data": {
      "text/plain": [
       "['income_quartile', 'building_id']"
      ]
     },
     "execution_count": 17,
     "metadata": {},
     "output_type": "execute_result"
    }
   ],
   "source": [
    "tables = [df_households]\n",
    "cfg_columns_used =  ['general_type',\n",
    "     'residential_sales_price',\n",
    "     'unit_sqft',\n",
    "     'sum_residential_units',\n",
    "     'ave_unit_sqft',\n",
    "     'ave_lot_sqft',\n",
    "     'ave_income',\n",
    "     'hhsize',\n",
    "     'jobs',\n",
    "     'sfdu',\n",
    "     'renters',\n",
    "     'poor',\n",
    "     'population',\n",
    "     'income_quartile']\n",
    "additional_columns = [\"building_id\"]\n",
    "columns = column_list(tables, cfg_columns)+additional_columns\n",
    "columns  #这个就是我们需要的列名（to_frame ）"
   ]
  },
  {
   "cell_type": "markdown",
   "metadata": {},
   "source": [
    "## 3. orca使用\n",
    "用orca运行我们的数据<br>\n",
    "有计算列的基础表，已经准备好的<br>\n",
    "目前的目标是生成模型所需要的数据表<br>\n",
    "下面主要是想获取区位选择模型中的关键表格locations_df"
   ]
  },
  {
   "cell_type": "code",
   "execution_count": 21,
   "metadata": {},
   "outputs": [],
   "source": [
    "#先清除一下缓冲区\n",
    "import orca\n",
    "orca.orca.clear_all()"
   ]
  },
  {
   "cell_type": "markdown",
   "metadata": {},
   "source": [
    "##### 读取基础表（DataFrame格式）"
   ]
  },
  {
   "cell_type": "code",
   "execution_count": 22,
   "metadata": {
    "scrolled": false
   },
   "outputs": [
    {
     "name": "stdout",
     "output_type": "stream",
     "text": [
      "Index(['gid', 'tract', 'area', 'acres', 'sum_residential_units',\n",
      "       'sum_job_spaces', 'population', 'jobs', 'ave_lot_sqft', 'ave_income',\n",
      "       'hhsize', 'ave_unit_sqft', 'sfdu', 'poor', 'renters', 'zone_id.1'],\n",
      "      dtype='object')\n"
     ]
    }
   ],
   "source": [
    "buildings = pd.read_csv(r'D:\\git_syy\\pygeo-tutorial\\佘越宇练习\\区位选择模型\\区位选择的基础建筑物表.csv',index_col=0)\n",
    "nodes = pd.read_csv(r'D:\\git_syy\\pygeo-tutorial\\佘越宇练习\\区位选择模型\\区位选择的基础表zones.csv',index_col=0)\n",
    "households = pd.read_csv(r'D:\\git_syy\\pygeo-tutorial\\佘越宇练习\\区位选择模型\\households_包含需要进行区位选择的家庭.csv',index_col=0)\n",
    "print(nodes.columns)\n",
    "nodes.columns=['gid', 'tract', 'area', 'acres', 'sum_residential_units',\n",
    "       'sum_job_spaces', 'population', 'jobs', 'ave_lot_sqft', 'ave_income',\n",
    "       'hhsize', 'ave_unit_sqft', 'sfdu', 'poor', 'renters', 'zone_id']\n",
    "# print(nodes.columns)"
   ]
  },
  {
   "cell_type": "markdown",
   "metadata": {},
   "source": [
    "##### add_table"
   ]
  },
  {
   "cell_type": "code",
   "execution_count": 26,
   "metadata": {},
   "outputs": [
    {
     "data": {
      "text/plain": [
       "<orca.orca.DataFrameWrapper at 0x2389b7393c8>"
      ]
     },
     "execution_count": 26,
     "metadata": {},
     "output_type": "execute_result"
    }
   ],
   "source": [
    "#把我们的基础表buildings、zones、households(DataFrame格式)添加到orca中\n",
    "orca.add_table('buildings',buildings)\n",
    "orca.add_table('zones',nodes)\n",
    "orca.add_table('households',households)"
   ]
  },
  {
   "cell_type": "markdown",
   "metadata": {},
   "source": [
    "##### 设置表格之间的关系"
   ]
  },
  {
   "cell_type": "code",
   "execution_count": 28,
   "metadata": {},
   "outputs": [],
   "source": [
    "orca.broadcast('zones', 'buildings', cast_index=True, onto_on='zone_id')"
   ]
  },
  {
   "cell_type": "markdown",
   "metadata": {},
   "source": [
    "##### 读取表格\n",
    "get_table()"
   ]
  },
  {
   "cell_type": "code",
   "execution_count": 32,
   "metadata": {},
   "outputs": [
    {
     "data": {
      "text/plain": [
       "orca.orca.DataFrameWrapper"
      ]
     },
     "execution_count": 32,
     "metadata": {},
     "output_type": "execute_result"
    }
   ],
   "source": [
    "choosers = orca.get_table('households')\n",
    "nodes = orca.get_table('zones')\n",
    "buildings = orca.get_table('buildings')\n",
    "type(choosers)  #可以看出获取的表的格式是orca.orca.DataFrameWrapper"
   ]
  },
  {
   "cell_type": "markdown",
   "metadata": {},
   "source": [
    "##### to_frame()\n",
    "将orca.orca.DataFrameWrapper生成为一个DataFrame"
   ]
  },
  {
   "cell_type": "code",
   "execution_count": 38,
   "metadata": {},
   "outputs": [
    {
     "data": {
      "text/html": [
       "<div>\n",
       "<style scoped>\n",
       "    .dataframe tbody tr th:only-of-type {\n",
       "        vertical-align: middle;\n",
       "    }\n",
       "\n",
       "    .dataframe tbody tr th {\n",
       "        vertical-align: top;\n",
       "    }\n",
       "\n",
       "    .dataframe thead th {\n",
       "        text-align: right;\n",
       "    }\n",
       "</style>\n",
       "<table border=\"1\" class=\"dataframe\">\n",
       "  <thead>\n",
       "    <tr style=\"text-align: right;\">\n",
       "      <th></th>\n",
       "      <th>building_id</th>\n",
       "      <th>building_type_id</th>\n",
       "      <th>income</th>\n",
       "      <th>persons</th>\n",
       "      <th>tenure</th>\n",
       "      <th>income_quartile</th>\n",
       "      <th>zone_id</th>\n",
       "    </tr>\n",
       "    <tr>\n",
       "      <th>household_id</th>\n",
       "      <th></th>\n",
       "      <th></th>\n",
       "      <th></th>\n",
       "      <th></th>\n",
       "      <th></th>\n",
       "      <th></th>\n",
       "      <th></th>\n",
       "    </tr>\n",
       "  </thead>\n",
       "  <tbody>\n",
       "    <tr>\n",
       "      <th>1</th>\n",
       "      <td>136325</td>\n",
       "      <td>1</td>\n",
       "      <td>27310</td>\n",
       "      <td>1</td>\n",
       "      <td>2</td>\n",
       "      <td>0</td>\n",
       "      <td>38.0</td>\n",
       "    </tr>\n",
       "    <tr>\n",
       "      <th>4</th>\n",
       "      <td>133982</td>\n",
       "      <td>2</td>\n",
       "      <td>25000</td>\n",
       "      <td>1</td>\n",
       "      <td>2</td>\n",
       "      <td>0</td>\n",
       "      <td>44.0</td>\n",
       "    </tr>\n",
       "    <tr>\n",
       "      <th>5</th>\n",
       "      <td>25633</td>\n",
       "      <td>1</td>\n",
       "      <td>3100</td>\n",
       "      <td>1</td>\n",
       "      <td>1</td>\n",
       "      <td>0</td>\n",
       "      <td>170.0</td>\n",
       "    </tr>\n",
       "    <tr>\n",
       "      <th>6</th>\n",
       "      <td>132596</td>\n",
       "      <td>2</td>\n",
       "      <td>7200</td>\n",
       "      <td>1</td>\n",
       "      <td>1</td>\n",
       "      <td>0</td>\n",
       "      <td>45.0</td>\n",
       "    </tr>\n",
       "    <tr>\n",
       "      <th>7</th>\n",
       "      <td>57108</td>\n",
       "      <td>1</td>\n",
       "      <td>27310</td>\n",
       "      <td>1</td>\n",
       "      <td>2</td>\n",
       "      <td>0</td>\n",
       "      <td>164.0</td>\n",
       "    </tr>\n",
       "    <tr>\n",
       "      <th>...</th>\n",
       "      <td>...</td>\n",
       "      <td>...</td>\n",
       "      <td>...</td>\n",
       "      <td>...</td>\n",
       "      <td>...</td>\n",
       "      <td>...</td>\n",
       "      <td>...</td>\n",
       "    </tr>\n",
       "    <tr>\n",
       "      <th>2630612</th>\n",
       "      <td>74346</td>\n",
       "      <td>3</td>\n",
       "      <td>690</td>\n",
       "      <td>1</td>\n",
       "      <td>1</td>\n",
       "      <td>0</td>\n",
       "      <td>148.0</td>\n",
       "    </tr>\n",
       "    <tr>\n",
       "      <th>2630613</th>\n",
       "      <td>78154</td>\n",
       "      <td>3</td>\n",
       "      <td>24650</td>\n",
       "      <td>1</td>\n",
       "      <td>1</td>\n",
       "      <td>0</td>\n",
       "      <td>141.0</td>\n",
       "    </tr>\n",
       "    <tr>\n",
       "      <th>2630614</th>\n",
       "      <td>-1</td>\n",
       "      <td>3</td>\n",
       "      <td>58000</td>\n",
       "      <td>1</td>\n",
       "      <td>1</td>\n",
       "      <td>1</td>\n",
       "      <td>NaN</td>\n",
       "    </tr>\n",
       "    <tr>\n",
       "      <th>2630615</th>\n",
       "      <td>137578</td>\n",
       "      <td>3</td>\n",
       "      <td>15400</td>\n",
       "      <td>1</td>\n",
       "      <td>1</td>\n",
       "      <td>0</td>\n",
       "      <td>22.0</td>\n",
       "    </tr>\n",
       "    <tr>\n",
       "      <th>2630617</th>\n",
       "      <td>129988</td>\n",
       "      <td>2</td>\n",
       "      <td>22000</td>\n",
       "      <td>1</td>\n",
       "      <td>1</td>\n",
       "      <td>0</td>\n",
       "      <td>11.0</td>\n",
       "    </tr>\n",
       "  </tbody>\n",
       "</table>\n",
       "<p>345588 rows × 7 columns</p>\n",
       "</div>"
      ],
      "text/plain": [
       "              building_id  building_type_id  income  persons  tenure  \\\n",
       "household_id                                                           \n",
       "1                  136325                 1   27310        1       2   \n",
       "4                  133982                 2   25000        1       2   \n",
       "5                   25633                 1    3100        1       1   \n",
       "6                  132596                 2    7200        1       1   \n",
       "7                   57108                 1   27310        1       2   \n",
       "...                   ...               ...     ...      ...     ...   \n",
       "2630612             74346                 3     690        1       1   \n",
       "2630613             78154                 3   24650        1       1   \n",
       "2630614                -1                 3   58000        1       1   \n",
       "2630615            137578                 3   15400        1       1   \n",
       "2630617            129988                 2   22000        1       1   \n",
       "\n",
       "              income_quartile  zone_id  \n",
       "household_id                            \n",
       "1                           0     38.0  \n",
       "4                           0     44.0  \n",
       "5                           0    170.0  \n",
       "6                           0     45.0  \n",
       "7                           0    164.0  \n",
       "...                       ...      ...  \n",
       "2630612                     0    148.0  \n",
       "2630613                     0    141.0  \n",
       "2630614                     1      NaN  \n",
       "2630615                     0     22.0  \n",
       "2630617                     0     11.0  \n",
       "\n",
       "[345588 rows x 7 columns]"
      ]
     },
     "execution_count": 38,
     "metadata": {},
     "output_type": "execute_result"
    }
   ],
   "source": [
    "choosers.to_frame() #可以看看出"
   ]
  },
  {
   "cell_type": "markdown",
   "metadata": {},
   "source": [
    "##### cfg_columns_used\n",
    "前面已经计算的，指的是配置文件中写的需要用到的列（主要是model_expression中的变量名）"
   ]
  },
  {
   "cell_type": "code",
   "execution_count": 41,
   "metadata": {
    "scrolled": true
   },
   "outputs": [
    {
     "data": {
      "text/plain": [
       "['general_type',\n",
       " 'residential_sales_price',\n",
       " 'unit_sqft',\n",
       " 'sum_residential_units',\n",
       " 'ave_unit_sqft',\n",
       " 'ave_lot_sqft',\n",
       " 'ave_income',\n",
       " 'hhsize',\n",
       " 'jobs',\n",
       " 'sfdu',\n",
       " 'renters',\n",
       " 'poor',\n",
       " 'population',\n",
       " 'income_quartile']"
      ]
     },
     "execution_count": 41,
     "metadata": {},
     "output_type": "execute_result"
    }
   ],
   "source": [
    "cfg_columns_used"
   ]
  },
  {
   "cell_type": "code",
   "execution_count": 42,
   "metadata": {},
   "outputs": [],
   "source": [
    "#生成location_df 额外需要的列\n",
    "supply_fname = \"residential_units\" #有计算列建筑物中的列\n",
    "vacant_fname =  \"vacant_residential_units\" #有计算列建筑物中的列\n",
    "additional_columns = [supply_fname,vacant_fname]"
   ]
  },
  {
   "cell_type": "markdown",
   "metadata": {},
   "source": [
    "##### columns \n",
    "即在cfg列又在buildings列中的列+额外列\n"
   ]
  },
  {
   "cell_type": "code",
   "execution_count": 46,
   "metadata": {
    "scrolled": true
   },
   "outputs": [
    {
     "data": {
      "text/plain": [
       "['ave_income',\n",
       " 'ave_unit_sqft',\n",
       " 'jobs',\n",
       " 'unit_sqft',\n",
       " 'renters',\n",
       " 'population',\n",
       " 'residential_sales_price',\n",
       " 'general_type',\n",
       " 'sfdu',\n",
       " 'poor',\n",
       " 'sum_residential_units',\n",
       " 'ave_lot_sqft',\n",
       " 'hhsize',\n",
       " 'residential_units',\n",
       " 'vacant_residential_units']"
      ]
     },
     "execution_count": 46,
     "metadata": {},
     "output_type": "execute_result"
    }
   ],
   "source": [
    "tables = [buildings, nodes]\n",
    "columns = column_list(tables, cfg_columns)+additional_columns\n",
    "columns #一共有15列（cfg和buildings列重复的有13个+额外的2列）"
   ]
  },
  {
   "cell_type": "markdown",
   "metadata": {},
   "source": [
    "##### tables"
   ]
  },
  {
   "cell_type": "code",
   "execution_count": 52,
   "metadata": {},
   "outputs": [],
   "source": [
    "tables  = [t for t in tables if t is not None]  #将两个df组合成一个list,就是list中嵌套两个df"
   ]
  },
  {
   "cell_type": "code",
   "execution_count": 53,
   "metadata": {},
   "outputs": [
    {
     "data": {
      "text/plain": [
       "list"
      ]
     },
     "execution_count": 53,
     "metadata": {},
     "output_type": "execute_result"
    }
   ],
   "source": [
    "type(tables)"
   ]
  },
  {
   "cell_type": "code",
   "execution_count": 54,
   "metadata": {
    "scrolled": true
   },
   "outputs": [
    {
     "data": {
      "text/plain": [
       "2"
      ]
     },
     "execution_count": 54,
     "metadata": {},
     "output_type": "execute_result"
    }
   ],
   "source": [
    "len(tables) "
   ]
  },
  {
   "cell_type": "code",
   "execution_count": 59,
   "metadata": {},
   "outputs": [
    {
     "data": {
      "text/html": [
       "<div>\n",
       "<style scoped>\n",
       "    .dataframe tbody tr th:only-of-type {\n",
       "        vertical-align: middle;\n",
       "    }\n",
       "\n",
       "    .dataframe tbody tr th {\n",
       "        vertical-align: top;\n",
       "    }\n",
       "\n",
       "    .dataframe thead th {\n",
       "        text-align: right;\n",
       "    }\n",
       "</style>\n",
       "<table border=\"1\" class=\"dataframe\">\n",
       "  <thead>\n",
       "    <tr style=\"text-align: right;\">\n",
       "      <th></th>\n",
       "      <th>zone_id</th>\n",
       "      <th>zone_id_buildings</th>\n",
       "      <th>unit_sqft</th>\n",
       "      <th>residential_units</th>\n",
       "      <th>vacant_residential_units</th>\n",
       "      <th>general_type</th>\n",
       "      <th>residential_sales_price</th>\n",
       "      <th>zone_id_zones</th>\n",
       "      <th>ave_unit_sqft</th>\n",
       "      <th>ave_income</th>\n",
       "      <th>jobs</th>\n",
       "      <th>renters</th>\n",
       "      <th>population</th>\n",
       "      <th>sfdu</th>\n",
       "      <th>poor</th>\n",
       "      <th>sum_residential_units</th>\n",
       "      <th>ave_lot_sqft</th>\n",
       "      <th>hhsize</th>\n",
       "    </tr>\n",
       "    <tr>\n",
       "      <th>building_id</th>\n",
       "      <th></th>\n",
       "      <th></th>\n",
       "      <th></th>\n",
       "      <th></th>\n",
       "      <th></th>\n",
       "      <th></th>\n",
       "      <th></th>\n",
       "      <th></th>\n",
       "      <th></th>\n",
       "      <th></th>\n",
       "      <th></th>\n",
       "      <th></th>\n",
       "      <th></th>\n",
       "      <th></th>\n",
       "      <th></th>\n",
       "      <th></th>\n",
       "      <th></th>\n",
       "      <th></th>\n",
       "    </tr>\n",
       "  </thead>\n",
       "  <tbody>\n",
       "    <tr>\n",
       "      <th>66515</th>\n",
       "      <td>103.0</td>\n",
       "      <td>103.0</td>\n",
       "      <td>1585.0000</td>\n",
       "      <td>3</td>\n",
       "      <td>0.0</td>\n",
       "      <td>Residential</td>\n",
       "      <td>360</td>\n",
       "      <td>103</td>\n",
       "      <td>7.153834</td>\n",
       "      <td>11.156265</td>\n",
       "      <td>6.259581</td>\n",
       "      <td>7.532624</td>\n",
       "      <td>8.556991</td>\n",
       "      <td>1.386294</td>\n",
       "      <td>6.859615</td>\n",
       "      <td>7.951559</td>\n",
       "      <td>7.293847</td>\n",
       "      <td>1.098612</td>\n",
       "    </tr>\n",
       "    <tr>\n",
       "      <th>65547</th>\n",
       "      <td>103.0</td>\n",
       "      <td>103.0</td>\n",
       "      <td>3314.0000</td>\n",
       "      <td>1</td>\n",
       "      <td>0.0</td>\n",
       "      <td>Residential</td>\n",
       "      <td>96</td>\n",
       "      <td>103</td>\n",
       "      <td>7.153834</td>\n",
       "      <td>11.156265</td>\n",
       "      <td>6.259581</td>\n",
       "      <td>7.532624</td>\n",
       "      <td>8.556991</td>\n",
       "      <td>1.386294</td>\n",
       "      <td>6.859615</td>\n",
       "      <td>7.951559</td>\n",
       "      <td>7.293847</td>\n",
       "      <td>1.098612</td>\n",
       "    </tr>\n",
       "    <tr>\n",
       "      <th>66514</th>\n",
       "      <td>103.0</td>\n",
       "      <td>103.0</td>\n",
       "      <td>1650.0000</td>\n",
       "      <td>3</td>\n",
       "      <td>-1.0</td>\n",
       "      <td>Residential</td>\n",
       "      <td>360</td>\n",
       "      <td>103</td>\n",
       "      <td>7.153834</td>\n",
       "      <td>11.156265</td>\n",
       "      <td>6.259581</td>\n",
       "      <td>7.532624</td>\n",
       "      <td>8.556991</td>\n",
       "      <td>1.386294</td>\n",
       "      <td>6.859615</td>\n",
       "      <td>7.951559</td>\n",
       "      <td>7.293847</td>\n",
       "      <td>1.098612</td>\n",
       "    </tr>\n",
       "    <tr>\n",
       "      <th>66655</th>\n",
       "      <td>103.0</td>\n",
       "      <td>103.0</td>\n",
       "      <td>941.5000</td>\n",
       "      <td>8</td>\n",
       "      <td>1.0</td>\n",
       "      <td>Residential</td>\n",
       "      <td>845</td>\n",
       "      <td>103</td>\n",
       "      <td>7.153834</td>\n",
       "      <td>11.156265</td>\n",
       "      <td>6.259581</td>\n",
       "      <td>7.532624</td>\n",
       "      <td>8.556991</td>\n",
       "      <td>1.386294</td>\n",
       "      <td>6.859615</td>\n",
       "      <td>7.951559</td>\n",
       "      <td>7.293847</td>\n",
       "      <td>1.098612</td>\n",
       "    </tr>\n",
       "    <tr>\n",
       "      <th>65727</th>\n",
       "      <td>103.0</td>\n",
       "      <td>103.0</td>\n",
       "      <td>739.6667</td>\n",
       "      <td>6</td>\n",
       "      <td>0.0</td>\n",
       "      <td>Residential</td>\n",
       "      <td>1285</td>\n",
       "      <td>103</td>\n",
       "      <td>7.153834</td>\n",
       "      <td>11.156265</td>\n",
       "      <td>6.259581</td>\n",
       "      <td>7.532624</td>\n",
       "      <td>8.556991</td>\n",
       "      <td>1.386294</td>\n",
       "      <td>6.859615</td>\n",
       "      <td>7.951559</td>\n",
       "      <td>7.293847</td>\n",
       "      <td>1.098612</td>\n",
       "    </tr>\n",
       "    <tr>\n",
       "      <th>...</th>\n",
       "      <td>...</td>\n",
       "      <td>...</td>\n",
       "      <td>...</td>\n",
       "      <td>...</td>\n",
       "      <td>...</td>\n",
       "      <td>...</td>\n",
       "      <td>...</td>\n",
       "      <td>...</td>\n",
       "      <td>...</td>\n",
       "      <td>...</td>\n",
       "      <td>...</td>\n",
       "      <td>...</td>\n",
       "      <td>...</td>\n",
       "      <td>...</td>\n",
       "      <td>...</td>\n",
       "      <td>...</td>\n",
       "      <td>...</td>\n",
       "      <td>...</td>\n",
       "    </tr>\n",
       "    <tr>\n",
       "      <th>1855320</th>\n",
       "      <td>14.0</td>\n",
       "      <td>14.0</td>\n",
       "      <td>170061.0000</td>\n",
       "      <td>1</td>\n",
       "      <td>1.0</td>\n",
       "      <td>Office</td>\n",
       "      <td>0</td>\n",
       "      <td>14</td>\n",
       "      <td>7.696667</td>\n",
       "      <td>10.477316</td>\n",
       "      <td>9.366831</td>\n",
       "      <td>1.098612</td>\n",
       "      <td>4.007333</td>\n",
       "      <td>0.000000</td>\n",
       "      <td>3.295837</td>\n",
       "      <td>6.131226</td>\n",
       "      <td>9.034048</td>\n",
       "      <td>0.693147</td>\n",
       "    </tr>\n",
       "    <tr>\n",
       "      <th>1854424</th>\n",
       "      <td>14.0</td>\n",
       "      <td>14.0</td>\n",
       "      <td>996760.0000</td>\n",
       "      <td>1</td>\n",
       "      <td>1.0</td>\n",
       "      <td>Office</td>\n",
       "      <td>0</td>\n",
       "      <td>14</td>\n",
       "      <td>7.696667</td>\n",
       "      <td>10.477316</td>\n",
       "      <td>9.366831</td>\n",
       "      <td>1.098612</td>\n",
       "      <td>4.007333</td>\n",
       "      <td>0.000000</td>\n",
       "      <td>3.295837</td>\n",
       "      <td>6.131226</td>\n",
       "      <td>9.034048</td>\n",
       "      <td>0.693147</td>\n",
       "    </tr>\n",
       "    <tr>\n",
       "      <th>1853798</th>\n",
       "      <td>14.0</td>\n",
       "      <td>14.0</td>\n",
       "      <td>523385.0000</td>\n",
       "      <td>1</td>\n",
       "      <td>1.0</td>\n",
       "      <td>Office</td>\n",
       "      <td>0</td>\n",
       "      <td>14</td>\n",
       "      <td>7.696667</td>\n",
       "      <td>10.477316</td>\n",
       "      <td>9.366831</td>\n",
       "      <td>1.098612</td>\n",
       "      <td>4.007333</td>\n",
       "      <td>0.000000</td>\n",
       "      <td>3.295837</td>\n",
       "      <td>6.131226</td>\n",
       "      <td>9.034048</td>\n",
       "      <td>0.693147</td>\n",
       "    </tr>\n",
       "    <tr>\n",
       "      <th>1855107</th>\n",
       "      <td>42.0</td>\n",
       "      <td>42.0</td>\n",
       "      <td>50672.0000</td>\n",
       "      <td>1</td>\n",
       "      <td>1.0</td>\n",
       "      <td>Industrial</td>\n",
       "      <td>0</td>\n",
       "      <td>42</td>\n",
       "      <td>7.103939</td>\n",
       "      <td>11.060384</td>\n",
       "      <td>4.962845</td>\n",
       "      <td>0.000000</td>\n",
       "      <td>0.000000</td>\n",
       "      <td>0.000000</td>\n",
       "      <td>0.000000</td>\n",
       "      <td>1.098612</td>\n",
       "      <td>12.454458</td>\n",
       "      <td>1.098612</td>\n",
       "    </tr>\n",
       "    <tr>\n",
       "      <th>1855108</th>\n",
       "      <td>42.0</td>\n",
       "      <td>42.0</td>\n",
       "      <td>24209.0000</td>\n",
       "      <td>1</td>\n",
       "      <td>1.0</td>\n",
       "      <td>Industrial</td>\n",
       "      <td>0</td>\n",
       "      <td>42</td>\n",
       "      <td>7.103939</td>\n",
       "      <td>11.060384</td>\n",
       "      <td>4.962845</td>\n",
       "      <td>0.000000</td>\n",
       "      <td>0.000000</td>\n",
       "      <td>0.000000</td>\n",
       "      <td>0.000000</td>\n",
       "      <td>1.098612</td>\n",
       "      <td>12.454458</td>\n",
       "      <td>1.098612</td>\n",
       "    </tr>\n",
       "  </tbody>\n",
       "</table>\n",
       "<p>152603 rows × 18 columns</p>\n",
       "</div>"
      ],
      "text/plain": [
       "             zone_id  zone_id_buildings    unit_sqft  residential_units  \\\n",
       "building_id                                                               \n",
       "66515          103.0              103.0    1585.0000                  3   \n",
       "65547          103.0              103.0    3314.0000                  1   \n",
       "66514          103.0              103.0    1650.0000                  3   \n",
       "66655          103.0              103.0     941.5000                  8   \n",
       "65727          103.0              103.0     739.6667                  6   \n",
       "...              ...                ...          ...                ...   \n",
       "1855320         14.0               14.0  170061.0000                  1   \n",
       "1854424         14.0               14.0  996760.0000                  1   \n",
       "1853798         14.0               14.0  523385.0000                  1   \n",
       "1855107         42.0               42.0   50672.0000                  1   \n",
       "1855108         42.0               42.0   24209.0000                  1   \n",
       "\n",
       "             vacant_residential_units general_type  residential_sales_price  \\\n",
       "building_id                                                                   \n",
       "66515                             0.0  Residential                      360   \n",
       "65547                             0.0  Residential                       96   \n",
       "66514                            -1.0  Residential                      360   \n",
       "66655                             1.0  Residential                      845   \n",
       "65727                             0.0  Residential                     1285   \n",
       "...                               ...          ...                      ...   \n",
       "1855320                           1.0       Office                        0   \n",
       "1854424                           1.0       Office                        0   \n",
       "1853798                           1.0       Office                        0   \n",
       "1855107                           1.0   Industrial                        0   \n",
       "1855108                           1.0   Industrial                        0   \n",
       "\n",
       "             zone_id_zones  ave_unit_sqft  ave_income      jobs   renters  \\\n",
       "building_id                                                                 \n",
       "66515                  103       7.153834   11.156265  6.259581  7.532624   \n",
       "65547                  103       7.153834   11.156265  6.259581  7.532624   \n",
       "66514                  103       7.153834   11.156265  6.259581  7.532624   \n",
       "66655                  103       7.153834   11.156265  6.259581  7.532624   \n",
       "65727                  103       7.153834   11.156265  6.259581  7.532624   \n",
       "...                    ...            ...         ...       ...       ...   \n",
       "1855320                 14       7.696667   10.477316  9.366831  1.098612   \n",
       "1854424                 14       7.696667   10.477316  9.366831  1.098612   \n",
       "1853798                 14       7.696667   10.477316  9.366831  1.098612   \n",
       "1855107                 42       7.103939   11.060384  4.962845  0.000000   \n",
       "1855108                 42       7.103939   11.060384  4.962845  0.000000   \n",
       "\n",
       "             population      sfdu      poor  sum_residential_units  \\\n",
       "building_id                                                          \n",
       "66515          8.556991  1.386294  6.859615               7.951559   \n",
       "65547          8.556991  1.386294  6.859615               7.951559   \n",
       "66514          8.556991  1.386294  6.859615               7.951559   \n",
       "66655          8.556991  1.386294  6.859615               7.951559   \n",
       "65727          8.556991  1.386294  6.859615               7.951559   \n",
       "...                 ...       ...       ...                    ...   \n",
       "1855320        4.007333  0.000000  3.295837               6.131226   \n",
       "1854424        4.007333  0.000000  3.295837               6.131226   \n",
       "1853798        4.007333  0.000000  3.295837               6.131226   \n",
       "1855107        0.000000  0.000000  0.000000               1.098612   \n",
       "1855108        0.000000  0.000000  0.000000               1.098612   \n",
       "\n",
       "             ave_lot_sqft    hhsize  \n",
       "building_id                          \n",
       "66515            7.293847  1.098612  \n",
       "65547            7.293847  1.098612  \n",
       "66514            7.293847  1.098612  \n",
       "66655            7.293847  1.098612  \n",
       "65727            7.293847  1.098612  \n",
       "...                   ...       ...  \n",
       "1855320          9.034048  0.693147  \n",
       "1854424          9.034048  0.693147  \n",
       "1853798          9.034048  0.693147  \n",
       "1855107         12.454458  1.098612  \n",
       "1855108         12.454458  1.098612  \n",
       "\n",
       "[152603 rows x 18 columns]"
      ]
     },
     "execution_count": 59,
     "metadata": {},
     "output_type": "execute_result"
    }
   ],
   "source": [
    "\n",
    "locations_df = orca.merge_tables(target=tables[0].name,\n",
    "                               tables=tables, columns=columns)\n",
    "locations_df"
   ]
  },
  {
   "cell_type": "code",
   "execution_count": 60,
   "metadata": {},
   "outputs": [
    {
     "data": {
      "text/plain": [
       "'\\n上面的操作主要都可以基于to_frame函数\\n\\n'"
      ]
     },
     "execution_count": 60,
     "metadata": {},
     "output_type": "execute_result"
    }
   ],
   "source": [
    "# def to_frame(tables, cfg, additional_columns=[]):\n",
    "#     cfg = yaml_to_class(cfg).from_yaml(str_or_buffer=cfg)\n",
    "#     tables = [t for t in tables if t is not None]\n",
    "#     columns = misc.column_list(tables, cfg.columns_used()) + additional_columns\n",
    "#     if len(tables) > 1:\n",
    "#         df = orca.merge_tables(target=tables[0].name,\n",
    "#                                tables=tables, columns=columns)\n",
    "#     else:\n",
    "#         df = tables[0].to_frame(columns)\n",
    "#     df = deal_with_nas(df)\n",
    "#     return df\n",
    "\n",
    "\"\"\"\n",
    "上面的操作主要都可以基于to_frame函数\n",
    "\n",
    "\"\"\"\n",
    "# locations_df = to_frame([buildings, nodes], cfg,\n",
    "#                             [supply_fname, vacant_fname])\n",
    "# locations_df"
   ]
  },
  {
   "cell_type": "code",
   "execution_count": null,
   "metadata": {},
   "outputs": [],
   "source": []
  }
 ],
 "metadata": {
  "kernelspec": {
   "display_name": "Python 3",
   "language": "python",
   "name": "python3"
  },
  "language_info": {
   "codemirror_mode": {
    "name": "ipython",
    "version": 3
   },
   "file_extension": ".py",
   "mimetype": "text/x-python",
   "name": "python",
   "nbconvert_exporter": "python",
   "pygments_lexer": "ipython3",
   "version": "3.7.4"
  }
 },
 "nbformat": 4,
 "nbformat_minor": 2
}
