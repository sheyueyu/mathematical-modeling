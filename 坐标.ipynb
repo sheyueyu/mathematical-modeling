{
 "cells": [
  {
   "cell_type": "code",
   "execution_count": 37,
   "metadata": {},
   "outputs": [],
   "source": [
    "import requests\n",
    "import xlwt\n",
    "url = 'http://api.map.baidu.com/place/v2/search'\n",
    "headers = {\n",
    "        'User-Agent': 'Mozilla/5.0 (Windows NT 6.1; Win64; x64) AppleWebKit/537.36 (KHTML, like Gecko) Chrome/70.0.3538.77 Safari/537.36'\n",
    "    }"
   ]
  },
  {
   "cell_type": "code",
   "execution_count": 127,
   "metadata": {},
   "outputs": [
    {
     "name": "stdout",
     "output_type": "stream",
     "text": [
      "请输入你要查询到多少页：7\n",
      "{'status': 0, 'message': 'ok', 'total': 138, 'result_type': 'poi_type', 'results': [{'name': '人信奥林花园-冠军苑', 'location': {'lat': 30.514365, 'lng': 114.188804}, 'address': '新民路人信奥林花园冠军苑', 'province': '湖北省', 'city': '武汉市', 'area': '蔡甸区', 'street_id': '45dd6bbdd3e53dd9b21e3659', 'detail': 1, 'uid': '45dd6bbdd3e53dd9b21e3659'}, {'name': '现代城云庭', 'location': {'lat': 30.507396, 'lng': 114.058096}, 'address': '湖北省武汉市蔡甸区后官湖大集街(213终点站)', 'province': '湖北省', 'city': '武汉市', 'area': '蔡甸区', 'street_id': 'c987def8d4f48112cac3dbc9', 'detail': 1, 'uid': 'c987def8d4f48112cac3dbc9'}, {'name': '大集G区莲溪花园', 'location': {'lat': 30.504721, 'lng': 114.065747}, 'address': '湖北省武汉市蔡甸区大集街建五路与大沌南路交汇处以西', 'province': '湖北省', 'city': '武汉市', 'area': '蔡甸区', 'detail': 1, 'uid': '52e81e218a7fcc334f3a5917'}, {'name': '龙王庙社区东区一门', 'location': {'lat': 30.457185, 'lng': 114.064135}, 'address': '武汉市蔡甸区白鹤泉东街龙王庙社区南门东侧', 'province': '湖北省', 'city': '武汉市', 'area': '蔡甸区', 'street_id': '35de5f203e7aba07250bd0f1', 'detail': 1, 'uid': '35de5f203e7aba07250bd0f1'}, {'name': '华元世旗', 'location': {'lat': 30.453567, 'lng': 114.065582}, 'address': '武汉市蔡甸区龙王四路富桥公寓西侧约180米', 'province': '湖北省', 'city': '武汉市', 'area': '蔡甸区', 'detail': 1, 'uid': '186f626703fb17bc6e20b934'}, {'name': '蔡甸街同心开发商住楼(同馨花园小区)', 'location': {'lat': 30.581724, 'lng': 114.046595}, 'address': '湖北省武汉市蔡甸区汉阳大街149号', 'province': '湖北省', 'city': '武汉市', 'area': '蔡甸区', 'detail': 1, 'uid': '8dd7886ba8f661455cbe869a'}, {'name': '工农路五屋社区', 'location': {'lat': 30.592723, 'lng': 114.043681}, 'address': '武汉市蔡甸区工农路6号', 'province': '湖北省', 'city': '武汉市', 'area': '蔡甸区', 'street_id': '3569696f3f8dd79d9c09f79b', 'detail': 1, 'uid': '3569696f3f8dd79d9c09f79b'}, {'name': '木兰苑雅湖居', 'location': {'lat': 30.522164, 'lng': 114.183569}, 'address': '武汉市蔡甸区经济技术开发区龙阳大道236号金色港湾米兰苑', 'province': '湖北省', 'city': '武汉市', 'area': '蔡甸区', 'street_id': 'a79b4c00a17463238b2fb549', 'detail': 1, 'uid': 'a79b4c00a17463238b2fb549'}, {'name': '楠木花苑', 'location': {'lat': 30.523756, 'lng': 114.188436}, 'address': '武汉市蔡甸区东风大道金桥·太子湖1号', 'province': '湖北省', 'city': '武汉市', 'area': '蔡甸区', 'street_id': '98042b4998ba9076601c67ca', 'detail': 1, 'uid': '98042b4998ba9076601c67ca'}, {'name': '金港花园小区', 'location': {'lat': 30.521945, 'lng': 114.187076}, 'address': '东风大道69号武汉外国语学校附近', 'province': '湖北省', 'city': '武汉市', 'area': '蔡甸区', 'street_id': '84e9b8493119e3b2077ce8e5', 'detail': 1, 'uid': '84e9b8493119e3b2077ce8e5'}, {'name': '金御园', 'location': {'lat': 30.473083, 'lng': 114.119983}, 'address': '武汉市蔡甸区枫树四路汉阳满庭春MOMA', 'province': '湖北省', 'city': '武汉市', 'area': '蔡甸区', 'street_id': '65b285133195c1c972210be3', 'detail': 1, 'uid': '65b285133195c1c972210be3'}, {'name': '五环苑小区', 'location': {'lat': 30.517438, 'lng': 114.186038}, 'address': '湖北省武汉市蔡甸区人信·奥林花园(新民路西)', 'province': '湖北省', 'city': '武汉市', 'area': '蔡甸区', 'street_id': 'e754289573273d6bc16c1498', 'detail': 1, 'uid': 'e754289573273d6bc16c1498'}, {'name': '同德楼', 'location': {'lat': 30.468845, 'lng': 114.19447}, 'address': '武汉市蔡甸区江城大道沌口小学', 'province': '湖北省', 'city': '武汉市', 'area': '蔡甸区', 'detail': 1, 'uid': '81e4b99d90b79328d13ce3ce'}, {'name': '蔡家花园-西区', 'location': {'lat': 30.507754, 'lng': 114.156987}, 'address': '湖北省武汉市蔡甸区沌口车城西路蔡家花园(后官湖东150米)', 'province': '湖北省', 'city': '武汉市', 'area': '蔡甸区', 'street_id': 'ea6451ed2bac112cca1b9500', 'detail': 1, 'uid': 'ea6451ed2bac112cca1b9500'}, {'name': '金荷花园-三期', 'location': {'lat': 30.498901, 'lng': 114.161874}, 'address': '武汉市蔡甸区联城一路与联城西路交叉路口东北侧(金荷花园)', 'province': '湖北省', 'city': '武汉市', 'area': '蔡甸区', 'street_id': '1c0130c436b8becace04ef89', 'detail': 1, 'uid': '1c0130c436b8becace04ef89'}, {'name': '时代年华(奓正街)', 'location': {'lat': 30.45619, 'lng': 114.018517}, 'address': '湖北省武汉市蔡甸区白鹤泉西街74号', 'province': '湖北省', 'city': '武汉市', 'area': '蔡甸区', 'street_id': '036dbfeb360f0355d92f28b0', 'detail': 1, 'uid': '036dbfeb360f0355d92f28b0'}, {'name': '国韵静园', 'location': {'lat': 30.505048, 'lng': 114.173076}, 'address': '湖北省武市蔡甸区沌口街街道盛世锦江大酒店一楼', 'province': '湖北省', 'city': '武汉市', 'area': '蔡甸区', 'street_id': '15797dc23b6986b9cb213d35', 'detail': 1, 'uid': '15797dc23b6986b9cb213d35'}, {'name': '金伯乐金色港湾KBHouse', 'location': {'lat': 30.527351, 'lng': 114.187715}, 'address': '湖北省武汉市蔡甸区沌口开发区东风大道金色港湾四期15栋3单元101号', 'province': '湖北省', 'city': '武汉市', 'area': '蔡甸区', 'street_id': 'ea79a941c104edefd0ff2322', 'detail': 1, 'uid': 'ea79a941c104edefd0ff2322'}]}\n"
     ]
    }
   ],
   "source": [
    "# 以我所在的城市为例\n",
    "# city_name = str(input('请输入需要查询的城市：')) --可以自定义输入\n",
    "page_num = int(input('请输入你要查询到多少页：'))\n",
    "for i in range(page_num):\n",
    "    params = {\n",
    "           'query':'住宅区',\n",
    "           'tag':'写字楼，住宅区，宿舍，内部楼栋，小区，楼',\n",
    "           'region':'蔡甸',\n",
    "           'output':'json',\n",
    "           'ak':'hssX8VzSyk3tbzfhQgzzwPBBAOhev5bU',\n",
    "           'page_size': 20,\n",
    "           'page_num':i,\n",
    "       }\n",
    "    page_text = requests.get(url=url,headers=headers,params=params).json()\n",
    "print(page_text)"
   ]
  },
  {
   "cell_type": "code",
   "execution_count": 121,
   "metadata": {},
   "outputs": [],
   "source": [
    "results_list = page_text['results']\n",
    " # print(type(results_list))\n",
    " \n",
    " # 遍历列表result_list，获取到每一个列表元素\n",
    "for j in range(0, len(results_list)):\n",
    "      lst1 = list(results_list[j].values())"
   ]
  },
  {
   "cell_type": "code",
   "execution_count": 122,
   "metadata": {},
   "outputs": [],
   "source": [
    "def set_style(height,bold=False):\n",
    "    #初始化样式\n",
    "    style = xlwt.XFStyle()\n",
    "    # 为样式创建字体\n",
    "    font = xlwt.Font()\n",
    "    #字体类型\n",
    "    font.name = 'Times New Roman'\n",
    "    #字体加粗\n",
    "    font.bold = bold\n",
    "    #字体颜色\n",
    "    font.color_index = 4\n",
    "    #字体大小\n",
    "    font.height = height\n",
    "    #定义格式\n",
    "    style.font = font\n",
    "    return style"
   ]
  },
  {
   "cell_type": "code",
   "execution_count": 123,
   "metadata": {},
   "outputs": [],
   "source": [
    "f = xlwt.Workbook(encoding='utf-8')  # 创建工作簿\n",
    " # 创建工作表sheet，并指定可以重复写入数据的情况，并设置行高\n",
    "sheet1 = f.add_sheet(u'colour', cell_overwrite_ok=False)\n",
    " # 控制行的位置\n",
    "colum = 0\n",
    "row = 0\n",
    " # 设置第一行\n",
    "lst = ['name', 'lat', 'lng', 'address', 'uid']\n",
    "for m in range(0, len(lst)):\n",
    "     sheet1.write(0, m, lst[m], set_style(220, True))"
   ]
  },
  {
   "cell_type": "code",
   "execution_count": 124,
   "metadata": {},
   "outputs": [],
   "source": [
    "for j in range(0, len(results_list)):\n",
    "    # 获取字典的values值\n",
    "    lst1 = list(results_list[j].values())\n",
    "    \n",
    "    # 写第一列\n",
    "    sheet1.write(j + 1, 0, lst1[0])\n",
    "\n",
    "    # 写第二列和第三列\n",
    "    lst2 = list(lst1[1].values())\n",
    "    sheet1.write(j + 1, 1, lst2[0])\n",
    "    sheet1.write(j + 1, 2, lst2[1])\n",
    "\n",
    "    # 写入第四列\n",
    "    sheet1.write(j + 1, 3, lst1[2])\n",
    "\n",
    "# 保存excel文件\n",
    "f.save('test.xls')"
   ]
  },
  {
   "cell_type": "code",
   "execution_count": null,
   "metadata": {},
   "outputs": [],
   "source": []
  }
 ],
 "metadata": {
  "kernelspec": {
   "display_name": "Python 3",
   "language": "python",
   "name": "python3"
  },
  "language_info": {
   "codemirror_mode": {
    "name": "ipython",
    "version": 3
   },
   "file_extension": ".py",
   "mimetype": "text/x-python",
   "name": "python",
   "nbconvert_exporter": "python",
   "pygments_lexer": "ipython3",
   "version": "3.7.4"
  }
 },
 "nbformat": 4,
 "nbformat_minor": 2
}
